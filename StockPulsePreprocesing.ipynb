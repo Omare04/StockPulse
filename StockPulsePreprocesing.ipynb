{
  "cells": [
    {
      "cell_type": "markdown",
      "metadata": {
        "id": "view-in-github",
        "colab_type": "text"
      },
      "source": [
        "<a href=\"https://colab.research.google.com/github/Omare04/StockPulse/blob/main/StockPulsePreprocesing.ipynb\" target=\"_parent\"><img src=\"https://colab.research.google.com/assets/colab-badge.svg\" alt=\"Open In Colab\"/></a>"
      ]
    },
    {
      "cell_type": "markdown",
      "source": [
        "### Initialize Git"
      ],
      "metadata": {
        "id": "cC4kOg6ushG_"
      }
    },
    {
      "cell_type": "code",
      "source": [
        "!git init\n"
      ],
      "metadata": {
        "colab": {
          "base_uri": "https://localhost:8080/"
        },
        "id": "-szQVCgHsj1u",
        "outputId": "17637c9b-bc83-474a-f704-2c300702099b"
      },
      "execution_count": null,
      "outputs": [
        {
          "output_type": "stream",
          "name": "stdout",
          "text": [
            "\u001b[33mhint: Using 'master' as the name for the initial branch. This default branch name\u001b[m\n",
            "\u001b[33mhint: is subject to change. To configure the initial branch name to use in all\u001b[m\n",
            "\u001b[33mhint: of your new repositories, which will suppress this warning, call:\u001b[m\n",
            "\u001b[33mhint: \u001b[m\n",
            "\u001b[33mhint: \tgit config --global init.defaultBranch <name>\u001b[m\n",
            "\u001b[33mhint: \u001b[m\n",
            "\u001b[33mhint: Names commonly chosen instead of 'master' are 'main', 'trunk' and\u001b[m\n",
            "\u001b[33mhint: 'development'. The just-created branch can be renamed via this command:\u001b[m\n",
            "\u001b[33mhint: \u001b[m\n",
            "\u001b[33mhint: \tgit branch -m <name>\u001b[m\n",
            "Initialized empty Git repository in /content/.git/\n"
          ]
        }
      ]
    },
    {
      "cell_type": "code",
      "source": [
        "!git remote add origin https://github.com/Omare04/StockPulse.git"
      ],
      "metadata": {
        "id": "WRZDV5e-smCE"
      },
      "execution_count": null,
      "outputs": []
    },
    {
      "cell_type": "code",
      "source": [
        "!git config --global user.email \"omarelmasaoudi04@gmail.com\"\n",
        "!git config --global user.name \"Omare04\"\n"
      ],
      "metadata": {
        "id": "HEPKWh2ds-Mc"
      },
      "execution_count": null,
      "outputs": []
    },
    {
      "cell_type": "code",
      "source": [
        "from google.colab import userdata\n",
        "github_key = userdata.get('PAT_token')\n",
        "from google.colab import drive\n",
        "drive.mount('/content/drive')\n"
      ],
      "metadata": {
        "colab": {
          "base_uri": "https://localhost:8080/"
        },
        "collapsed": true,
        "id": "f9GngjPxusEQ",
        "outputId": "8ff77b90-fc7f-4ed2-ec75-cf6a8ee6b325"
      },
      "execution_count": 31,
      "outputs": [
        {
          "output_type": "stream",
          "name": "stdout",
          "text": [
            "Drive already mounted at /content/drive; to attempt to forcibly remount, call drive.mount(\"/content/drive\", force_remount=True).\n"
          ]
        }
      ]
    },
    {
      "cell_type": "code",
      "source": [
        "!git push -u origin main\n"
      ],
      "metadata": {
        "colab": {
          "base_uri": "https://localhost:8080/"
        },
        "id": "8NiuO8CkxCYU",
        "outputId": "8a4a079a-f141-4f22-9a54-d0d71a13d4a2"
      },
      "execution_count": 50,
      "outputs": [
        {
          "output_type": "stream",
          "name": "stdout",
          "text": [
            "Enumerating objects: 4, done.\n",
            "Counting objects:  25% (1/4)\rCounting objects:  50% (2/4)\rCounting objects:  75% (3/4)\rCounting objects: 100% (4/4)\rCounting objects: 100% (4/4), done.\n",
            "Delta compression using up to 2 threads\n",
            "Compressing objects:  33% (1/3)\rCompressing objects:  66% (2/3)\rCompressing objects: 100% (3/3)\rCompressing objects: 100% (3/3), done.\n",
            "Writing objects:  33% (1/3)\rWriting objects:  66% (2/3)\rWriting objects: 100% (3/3)\rWriting objects: 100% (3/3), 759 bytes | 759.00 KiB/s, done.\n",
            "Total 3 (delta 0), reused 0 (delta 0), pack-reused 0\n",
            "To https://github.com/Omare04/StockPulse.git\n",
            "   1be2596..fe1639b  main -> main\n",
            "Branch 'main' set up to track remote branch 'main' from 'origin'.\n"
          ]
        }
      ]
    },
    {
      "cell_type": "code",
      "source": [
        "!git remote set-url origin https://{github_key}@github.com/Omare04/StockPulse.git\n"
      ],
      "metadata": {
        "id": "X3mqYaFNvAI6"
      },
      "execution_count": null,
      "outputs": []
    },
    {
      "cell_type": "code",
      "source": [
        "!echo \"*.gsheet\" >> .gitignore\n",
        "!echo \"*.gdoc\" >> .gitignore\n",
        "!echo \"drive/MyDrive/\" >> .gitignore\n",
        "!echo \"sample_data/\" >> .gitignore\n",
        "!/content/drive/MyDrive/Colab\\ Notebooks/StockPulse.ipynb\n",
        "\n",
        "\n"
      ],
      "metadata": {
        "id": "xoYoh7mdtIFP",
        "colab": {
          "base_uri": "https://localhost:8080/"
        },
        "outputId": "cc4d446d-aba3-4056-b5a7-7d1941fe5ca6"
      },
      "execution_count": 45,
      "outputs": [
        {
          "output_type": "stream",
          "name": "stdout",
          "text": [
            "/content/drive/MyDrive/Colab Notebooks/StockPulse.ipynb: line 1: nbformat:4: command not found\n"
          ]
        }
      ]
    },
    {
      "cell_type": "code",
      "source": [
        "!git add .gitignore\n"
      ],
      "metadata": {
        "id": "NvNAyECEtaWH"
      },
      "execution_count": null,
      "outputs": []
    },
    {
      "cell_type": "code",
      "source": [
        "!git add .\n",
        "!git commit -m \"Initial commit\"\n",
        "!git branch -M main\n",
        "!git push -u origin main\n"
      ],
      "metadata": {
        "colab": {
          "base_uri": "https://localhost:8080/"
        },
        "id": "BMZ3pJVQswKy",
        "outputId": "e33559c9-4e5a-4a76-af38-c19fd6dd7a6e"
      },
      "execution_count": null,
      "outputs": [
        {
          "output_type": "stream",
          "name": "stdout",
          "text": [
            "[main 1be2596] Initial commit\n",
            " 1 file changed, 4 insertions(+)\n",
            "Enumerating objects: 25, done.\n",
            "Counting objects: 100% (25/25), done.\n",
            "Delta compression using up to 2 threads\n",
            "Compressing objects: 100% (18/18), done.\n",
            "Writing objects: 100% (25/25), 7.06 KiB | 1.41 MiB/s, done.\n",
            "Total 25 (delta 6), reused 0 (delta 0), pack-reused 0\n",
            "remote: Resolving deltas: 100% (6/6), done.\u001b[K\n",
            "To https://github.com/Omare04/StockPulse.git\n",
            " * [new branch]      main -> main\n",
            "Branch 'main' set up to track remote branch 'main' from 'origin'.\n"
          ]
        }
      ]
    },
    {
      "cell_type": "markdown",
      "metadata": {
        "id": "J2S_5ueZl34l"
      },
      "source": [
        "### Install Dependencies and import packages\n",
        "\n"
      ]
    },
    {
      "cell_type": "code",
      "execution_count": null,
      "metadata": {
        "colab": {
          "base_uri": "https://localhost:8080/"
        },
        "collapsed": true,
        "id": "GC9NTExh_rnc",
        "outputId": "1462ee28-d912-4b05-d61d-f9323108f2cc"
      },
      "outputs": [
        {
          "output_type": "stream",
          "name": "stdout",
          "text": [
            "Requirement already satisfied: pandas in /usr/local/lib/python3.10/dist-packages (2.2.2)\n",
            "Requirement already satisfied: numpy in /usr/local/lib/python3.10/dist-packages (1.26.4)\n",
            "Requirement already satisfied: psycopg2 in /usr/local/lib/python3.10/dist-packages (2.9.10)\n",
            "Requirement already satisfied: pinecone-client in /usr/local/lib/python3.10/dist-packages (5.0.1)\n",
            "Requirement already satisfied: sentence-transformers in /usr/local/lib/python3.10/dist-packages (3.3.1)\n",
            "Requirement already satisfied: nltk in /usr/local/lib/python3.10/dist-packages (3.9.1)\n",
            "Requirement already satisfied: transformers in /usr/local/lib/python3.10/dist-packages (4.47.1)\n",
            "Collecting datasets\n",
            "  Downloading datasets-3.2.0-py3-none-any.whl.metadata (20 kB)\n",
            "Requirement already satisfied: python-dateutil>=2.8.2 in /usr/local/lib/python3.10/dist-packages (from pandas) (2.8.2)\n",
            "Requirement already satisfied: pytz>=2020.1 in /usr/local/lib/python3.10/dist-packages (from pandas) (2024.2)\n",
            "Requirement already satisfied: tzdata>=2022.7 in /usr/local/lib/python3.10/dist-packages (from pandas) (2024.2)\n",
            "Requirement already satisfied: certifi>=2019.11.17 in /usr/local/lib/python3.10/dist-packages (from pinecone-client) (2024.12.14)\n",
            "Requirement already satisfied: pinecone-plugin-inference<2.0.0,>=1.0.3 in /usr/local/lib/python3.10/dist-packages (from pinecone-client) (1.1.0)\n",
            "Requirement already satisfied: pinecone-plugin-interface<0.0.8,>=0.0.7 in /usr/local/lib/python3.10/dist-packages (from pinecone-client) (0.0.7)\n",
            "Requirement already satisfied: tqdm>=4.64.1 in /usr/local/lib/python3.10/dist-packages (from pinecone-client) (4.67.1)\n",
            "Requirement already satisfied: typing-extensions>=3.7.4 in /usr/local/lib/python3.10/dist-packages (from pinecone-client) (4.12.2)\n",
            "Requirement already satisfied: urllib3>=1.26.0 in /usr/local/lib/python3.10/dist-packages (from pinecone-client) (2.2.3)\n",
            "Requirement already satisfied: torch>=1.11.0 in /usr/local/lib/python3.10/dist-packages (from sentence-transformers) (2.5.1+cu121)\n",
            "Requirement already satisfied: scikit-learn in /usr/local/lib/python3.10/dist-packages (from sentence-transformers) (1.6.0)\n",
            "Requirement already satisfied: scipy in /usr/local/lib/python3.10/dist-packages (from sentence-transformers) (1.13.1)\n",
            "Requirement already satisfied: huggingface-hub>=0.20.0 in /usr/local/lib/python3.10/dist-packages (from sentence-transformers) (0.27.0)\n",
            "Requirement already satisfied: Pillow in /usr/local/lib/python3.10/dist-packages (from sentence-transformers) (11.0.0)\n",
            "Requirement already satisfied: click in /usr/local/lib/python3.10/dist-packages (from nltk) (8.1.7)\n",
            "Requirement already satisfied: joblib in /usr/local/lib/python3.10/dist-packages (from nltk) (1.4.2)\n",
            "Requirement already satisfied: regex>=2021.8.3 in /usr/local/lib/python3.10/dist-packages (from nltk) (2024.11.6)\n",
            "Requirement already satisfied: filelock in /usr/local/lib/python3.10/dist-packages (from transformers) (3.16.1)\n",
            "Requirement already satisfied: packaging>=20.0 in /usr/local/lib/python3.10/dist-packages (from transformers) (24.2)\n",
            "Requirement already satisfied: pyyaml>=5.1 in /usr/local/lib/python3.10/dist-packages (from transformers) (6.0.2)\n",
            "Requirement already satisfied: requests in /usr/local/lib/python3.10/dist-packages (from transformers) (2.32.3)\n",
            "Requirement already satisfied: tokenizers<0.22,>=0.21 in /usr/local/lib/python3.10/dist-packages (from transformers) (0.21.0)\n",
            "Requirement already satisfied: safetensors>=0.4.1 in /usr/local/lib/python3.10/dist-packages (from transformers) (0.4.5)\n",
            "Requirement already satisfied: pyarrow>=15.0.0 in /usr/local/lib/python3.10/dist-packages (from datasets) (17.0.0)\n",
            "Collecting dill<0.3.9,>=0.3.0 (from datasets)\n",
            "  Downloading dill-0.3.8-py3-none-any.whl.metadata (10 kB)\n",
            "Collecting xxhash (from datasets)\n",
            "  Downloading xxhash-3.5.0-cp310-cp310-manylinux_2_17_x86_64.manylinux2014_x86_64.whl.metadata (12 kB)\n",
            "Collecting multiprocess<0.70.17 (from datasets)\n",
            "  Downloading multiprocess-0.70.16-py310-none-any.whl.metadata (7.2 kB)\n",
            "Collecting fsspec<=2024.9.0,>=2023.1.0 (from fsspec[http]<=2024.9.0,>=2023.1.0->datasets)\n",
            "  Downloading fsspec-2024.9.0-py3-none-any.whl.metadata (11 kB)\n",
            "Requirement already satisfied: aiohttp in /usr/local/lib/python3.10/dist-packages (from datasets) (3.11.10)\n",
            "Requirement already satisfied: aiohappyeyeballs>=2.3.0 in /usr/local/lib/python3.10/dist-packages (from aiohttp->datasets) (2.4.4)\n",
            "Requirement already satisfied: aiosignal>=1.1.2 in /usr/local/lib/python3.10/dist-packages (from aiohttp->datasets) (1.3.2)\n",
            "Requirement already satisfied: async-timeout<6.0,>=4.0 in /usr/local/lib/python3.10/dist-packages (from aiohttp->datasets) (4.0.3)\n",
            "Requirement already satisfied: attrs>=17.3.0 in /usr/local/lib/python3.10/dist-packages (from aiohttp->datasets) (24.3.0)\n",
            "Requirement already satisfied: frozenlist>=1.1.1 in /usr/local/lib/python3.10/dist-packages (from aiohttp->datasets) (1.5.0)\n",
            "Requirement already satisfied: multidict<7.0,>=4.5 in /usr/local/lib/python3.10/dist-packages (from aiohttp->datasets) (6.1.0)\n",
            "Requirement already satisfied: propcache>=0.2.0 in /usr/local/lib/python3.10/dist-packages (from aiohttp->datasets) (0.2.1)\n",
            "Requirement already satisfied: yarl<2.0,>=1.17.0 in /usr/local/lib/python3.10/dist-packages (from aiohttp->datasets) (1.18.3)\n",
            "Requirement already satisfied: six>=1.5 in /usr/local/lib/python3.10/dist-packages (from python-dateutil>=2.8.2->pandas) (1.17.0)\n",
            "Requirement already satisfied: charset-normalizer<4,>=2 in /usr/local/lib/python3.10/dist-packages (from requests->transformers) (3.4.0)\n",
            "Requirement already satisfied: idna<4,>=2.5 in /usr/local/lib/python3.10/dist-packages (from requests->transformers) (3.10)\n",
            "Requirement already satisfied: networkx in /usr/local/lib/python3.10/dist-packages (from torch>=1.11.0->sentence-transformers) (3.4.2)\n",
            "Requirement already satisfied: jinja2 in /usr/local/lib/python3.10/dist-packages (from torch>=1.11.0->sentence-transformers) (3.1.4)\n",
            "Requirement already satisfied: sympy==1.13.1 in /usr/local/lib/python3.10/dist-packages (from torch>=1.11.0->sentence-transformers) (1.13.1)\n",
            "Requirement already satisfied: mpmath<1.4,>=1.1.0 in /usr/local/lib/python3.10/dist-packages (from sympy==1.13.1->torch>=1.11.0->sentence-transformers) (1.3.0)\n",
            "Requirement already satisfied: threadpoolctl>=3.1.0 in /usr/local/lib/python3.10/dist-packages (from scikit-learn->sentence-transformers) (3.5.0)\n",
            "Requirement already satisfied: MarkupSafe>=2.0 in /usr/local/lib/python3.10/dist-packages (from jinja2->torch>=1.11.0->sentence-transformers) (3.0.2)\n",
            "Downloading datasets-3.2.0-py3-none-any.whl (480 kB)\n",
            "\u001b[2K   \u001b[90m━━━━━━━━━━━━━━━━━━━━━━━━━━━━━━━━━━━━━━━━\u001b[0m \u001b[32m480.6/480.6 kB\u001b[0m \u001b[31m29.6 MB/s\u001b[0m eta \u001b[36m0:00:00\u001b[0m\n",
            "\u001b[?25hDownloading dill-0.3.8-py3-none-any.whl (116 kB)\n",
            "\u001b[2K   \u001b[90m━━━━━━━━━━━━━━━━━━━━━━━━━━━━━━━━━━━━━━━━\u001b[0m \u001b[32m116.3/116.3 kB\u001b[0m \u001b[31m11.2 MB/s\u001b[0m eta \u001b[36m0:00:00\u001b[0m\n",
            "\u001b[?25hDownloading fsspec-2024.9.0-py3-none-any.whl (179 kB)\n",
            "\u001b[2K   \u001b[90m━━━━━━━━━━━━━━━━━━━━━━━━━━━━━━━━━━━━━━━━\u001b[0m \u001b[32m179.3/179.3 kB\u001b[0m \u001b[31m17.0 MB/s\u001b[0m eta \u001b[36m0:00:00\u001b[0m\n",
            "\u001b[?25hDownloading multiprocess-0.70.16-py310-none-any.whl (134 kB)\n",
            "\u001b[2K   \u001b[90m━━━━━━━━━━━━━━━━━━━━━━━━━━━━━━━━━━━━━━━━\u001b[0m \u001b[32m134.8/134.8 kB\u001b[0m \u001b[31m13.8 MB/s\u001b[0m eta \u001b[36m0:00:00\u001b[0m\n",
            "\u001b[?25hDownloading xxhash-3.5.0-cp310-cp310-manylinux_2_17_x86_64.manylinux2014_x86_64.whl (194 kB)\n",
            "\u001b[2K   \u001b[90m━━━━━━━━━━━━━━━━━━━━━━━━━━━━━━━━━━━━━━━━\u001b[0m \u001b[32m194.1/194.1 kB\u001b[0m \u001b[31m18.4 MB/s\u001b[0m eta \u001b[36m0:00:00\u001b[0m\n",
            "\u001b[?25hInstalling collected packages: xxhash, fsspec, dill, multiprocess, datasets\n",
            "  Attempting uninstall: fsspec\n",
            "    Found existing installation: fsspec 2024.10.0\n",
            "    Uninstalling fsspec-2024.10.0:\n",
            "      Successfully uninstalled fsspec-2024.10.0\n",
            "\u001b[31mERROR: pip's dependency resolver does not currently take into account all the packages that are installed. This behaviour is the source of the following dependency conflicts.\n",
            "gcsfs 2024.10.0 requires fsspec==2024.10.0, but you have fsspec 2024.9.0 which is incompatible.\u001b[0m\u001b[31m\n",
            "\u001b[0mSuccessfully installed datasets-3.2.0 dill-0.3.8 fsspec-2024.9.0 multiprocess-0.70.16 xxhash-3.5.0\n"
          ]
        }
      ],
      "source": [
        "\n",
        "!pip install pandas numpy psycopg2 pinecone-client sentence-transformers nltk transformers datasets\n"
      ]
    },
    {
      "cell_type": "code",
      "execution_count": null,
      "metadata": {
        "colab": {
          "base_uri": "https://localhost:8080/"
        },
        "id": "jnzuYesf3CXB",
        "outputId": "14aa4cee-1984-4df9-9665-bf0fa04cb1ac"
      },
      "outputs": [
        {
          "output_type": "stream",
          "name": "stderr",
          "text": [
            "[nltk_data] Downloading package punkt_tab to /root/nltk_data...\n",
            "[nltk_data]   Package punkt_tab is already up-to-date!\n"
          ]
        },
        {
          "output_type": "execute_result",
          "data": {
            "text/plain": [
              "True"
            ]
          },
          "metadata": {},
          "execution_count": 16
        }
      ],
      "source": [
        "import json\n",
        "import pandas as pd\n",
        "import numpy as np\n",
        "import re\n",
        "import psycopg2\n",
        "from datetime import datetime as dt\n",
        "from pinecone import Pinecone\n",
        "from google.colab import drive\n",
        "from sentence_transformers import SentenceTransformer\n",
        "import nltk\n",
        "from transformers import pipeline\n",
        "nltk.download('punkt_tab')\n",
        "\n"
      ]
    },
    {
      "cell_type": "markdown",
      "metadata": {
        "id": "r6AtxeGfAinq"
      },
      "source": []
    },
    {
      "cell_type": "markdown",
      "metadata": {
        "id": "Co5gHLw7EWTO"
      },
      "source": [
        "### Load Embeddings Model"
      ]
    },
    {
      "cell_type": "code",
      "execution_count": null,
      "metadata": {
        "colab": {
          "base_uri": "https://localhost:8080/",
          "height": 322,
          "referenced_widgets": [
            "d765f2cb349e48ea90899ad969870ec4",
            "15db67f9e26c47fc945ea4201931235c",
            "063b9fc509fe407ea4c4e9f2d3584179",
            "8608a151bada442aa04ba507283817cb",
            "12f47ec58c49483cbe9a15761c67521d",
            "a8fd475b1d4542dcbfa592fee6ded396",
            "151fd04139e24afaa8fe518e0db47642",
            "f165630e68ec42c89d36d75f8ebcc392",
            "314c1e7e0eaf4c74bcb6376bfdf628d6",
            "cc5a67e4bd5543caa9e5344ba82fdae6",
            "77946e129c074f2f94c4e535ad401561",
            "80f07d14e91a45eaaf1b8b1ffe644318",
            "de60ff5b6e7d4439a7f11a1401ed93d8",
            "233fa31e842144e39da34e490d61f048",
            "4af79c24ad784ef9be7f215937c6f9f1",
            "ec3bab3c3a5248bba6fabe29fa6c6c1b",
            "f3349dc977364ad68287bbb3341acaef",
            "a3b1871da821483cba3b60998b7a4b35",
            "63b3160d8f9a474aa9f243b1002774e3",
            "f15de415d7124fce8fcf2274d04bd18d",
            "c7f6278d0d5d46c59010f1ab71604cb1",
            "d3c5b748d2b74cf0b608285831dd216b",
            "0e8f8feacbd74804998c2dc0ddbabc52",
            "baaddcc9f72f4a9da7b0bb3df4bcd1b5",
            "df6bbe95c7594a7aa439fc4ef8485b39",
            "76f7958b99e04bf487626072cef14264",
            "524da4ea4e144b19bd679d4627667343",
            "82d7462a891249b3b97974f5be4e03c4",
            "da66c1abaa2a4c528f32a4e5deb7c7f2",
            "443b20128bc741818b8ed351ea5502e1",
            "6586c46bc8994f9fb82fa1e5ceb1e533",
            "881163a9dc8743d6aed5a35a7805a14f",
            "7b16ebe3b58f4791b1fd77c62dd2a388",
            "57c753c297f446e68a200fd62a6e908a",
            "b203dd12d7814a518e983ac1f4feb1ea",
            "87cfb07bb0384483beb8b22e10486c33",
            "fa2db381bdbe46ca9c61aa817e873149",
            "0da7b2232c4e4b8d86e56201ecd92a21",
            "823ffdcd6c064119bccfd671eccd4ca8",
            "fb6ce5fc036049ce9939f982221b252e",
            "922b2ef2bbd2418ab51f136ce39ef9ef",
            "b2e09d11eb4046c1b6c1c8ef2a79267d",
            "e1fc428814354a77932af4b73c6c7a39",
            "433f09b6b5964b3b8e3755aa36db75ec",
            "08f6d5cbf178425d9127f7fa03483d52",
            "06f661972d364e638e86a531e5754673",
            "d79c79a232494930813930cd5c6188d4",
            "e7e6914385bd4449b250c7c8fd0ef210",
            "b818368a3bb14c3ea79701a12212a629",
            "db77091182134ee1bfb53f2c8dea8f4c",
            "8ddc8394dff24f249653fe4cca1bb396",
            "f998deebbe304030bef6c44f1371db73",
            "599bfcfe3b894979a56a71f5e1ab1485",
            "c4bf694a45234afc987f748618d4eb9a",
            "96d378fecd7e461285c4bc42f4e6c58a"
          ]
        },
        "collapsed": true,
        "id": "MjJMdxVrEaw6",
        "outputId": "201db354-7b2d-4e5b-c99e-a09cb42dc72a"
      },
      "outputs": [
        {
          "name": "stderr",
          "output_type": "stream",
          "text": [
            "/usr/local/lib/python3.10/dist-packages/huggingface_hub/utils/_auth.py:94: UserWarning: \n",
            "The secret `HF_TOKEN` does not exist in your Colab secrets.\n",
            "To authenticate with the Hugging Face Hub, create a token in your settings tab (https://huggingface.co/settings/tokens), set it as secret in your Google Colab and restart your session.\n",
            "You will be able to reuse this secret in all of your notebooks.\n",
            "Please note that authentication is recommended but still optional to access public models or datasets.\n",
            "  warnings.warn(\n",
            "WARNING:sentence_transformers.SentenceTransformer:No sentence-transformers model found with name ProsusAI/finbert. Creating a new one with mean pooling.\n"
          ]
        },
        {
          "data": {
            "application/vnd.jupyter.widget-view+json": {
              "model_id": "d765f2cb349e48ea90899ad969870ec4",
              "version_major": 2,
              "version_minor": 0
            },
            "text/plain": [
              "config.json:   0%|          | 0.00/758 [00:00<?, ?B/s]"
            ]
          },
          "metadata": {},
          "output_type": "display_data"
        },
        {
          "data": {
            "application/vnd.jupyter.widget-view+json": {
              "model_id": "80f07d14e91a45eaaf1b8b1ffe644318",
              "version_major": 2,
              "version_minor": 0
            },
            "text/plain": [
              "pytorch_model.bin:   0%|          | 0.00/438M [00:00<?, ?B/s]"
            ]
          },
          "metadata": {},
          "output_type": "display_data"
        },
        {
          "data": {
            "application/vnd.jupyter.widget-view+json": {
              "model_id": "0e8f8feacbd74804998c2dc0ddbabc52",
              "version_major": 2,
              "version_minor": 0
            },
            "text/plain": [
              "tokenizer_config.json:   0%|          | 0.00/252 [00:00<?, ?B/s]"
            ]
          },
          "metadata": {},
          "output_type": "display_data"
        },
        {
          "data": {
            "application/vnd.jupyter.widget-view+json": {
              "model_id": "57c753c297f446e68a200fd62a6e908a",
              "version_major": 2,
              "version_minor": 0
            },
            "text/plain": [
              "vocab.txt:   0%|          | 0.00/232k [00:00<?, ?B/s]"
            ]
          },
          "metadata": {},
          "output_type": "display_data"
        },
        {
          "data": {
            "application/vnd.jupyter.widget-view+json": {
              "model_id": "08f6d5cbf178425d9127f7fa03483d52",
              "version_major": 2,
              "version_minor": 0
            },
            "text/plain": [
              "special_tokens_map.json:   0%|          | 0.00/112 [00:00<?, ?B/s]"
            ]
          },
          "metadata": {},
          "output_type": "display_data"
        }
      ],
      "source": [
        "model = SentenceTransformer('ProsusAI/finbert')"
      ]
    },
    {
      "cell_type": "code",
      "execution_count": null,
      "metadata": {
        "id": "In7SANZLOr8M"
      },
      "outputs": [],
      "source": [
        "def embedd_model(text):\n",
        "  embedding = model.encode(text)\n",
        "  return embedding"
      ]
    },
    {
      "cell_type": "markdown",
      "metadata": {
        "id": "dSl9r7llCFsv"
      },
      "source": [
        "### Connect to pinecone vector store\n"
      ]
    },
    {
      "cell_type": "code",
      "execution_count": null,
      "metadata": {
        "id": "iUrAuUFGSIsm"
      },
      "outputs": [],
      "source": [
        "api_key = userdata.get('pinecone_vector_store')\n",
        "pc = Pinecone(api_key=api_key)\n",
        "index = pc.Index(\"stockpulse-articles\")"
      ]
    },
    {
      "cell_type": "code",
      "execution_count": null,
      "metadata": {
        "id": "OBeWetfAPYFx"
      },
      "outputs": [],
      "source": [
        "def insert_embeddings_to_vector(embeddings, articles):\n",
        "    vectors = []\n",
        "    for i, (embedding, article) in enumerate(zip(embeddings, articles)):\n",
        "        vectors.append({\n",
        "            \"id\": f\"article_{i}\",\n",
        "            \"values\": embedding,\n",
        "            \"metadata\": {\"text\": article}\n",
        "        })\n",
        "\n",
        "    # Batch upsert to Pinecone\n",
        "    index.upsert(vectors=vectors, namespace=\"articles\")\n",
        "    print(f\"Inserted {len(vectors)} articles into Pinecone.\")\n"
      ]
    },
    {
      "cell_type": "markdown",
      "metadata": {
        "id": "mnW49NyjBqpP"
      },
      "source": [
        "### Load Articles And stocks\n"
      ]
    },
    {
      "cell_type": "code",
      "execution_count": null,
      "metadata": {
        "id": "8aFQEDqc4KLx"
      },
      "outputs": [],
      "source": [
        "articles = pd.read_json('./drive/MyDrive/StockPulse/articles/stock_articles_DEC31.json')\n",
        "stocks = pd.read_json(\"./drive/MyDrive/StockPulse/stocks/marketmood_stocks.json\")"
      ]
    },
    {
      "cell_type": "markdown",
      "source": [
        "####Initialize pandas dataframes for each object"
      ],
      "metadata": {
        "id": "rvtbrV26IXCX"
      }
    },
    {
      "cell_type": "code",
      "execution_count": null,
      "metadata": {
        "id": "ppD6X_MnuYzE"
      },
      "outputs": [],
      "source": [
        "article_df = pd.DataFrame(articles)\n",
        "stock_df = pd.DataFrame(stocks)"
      ]
    },
    {
      "cell_type": "code",
      "source": [
        "print(article_df[\"article\"])"
      ],
      "metadata": {
        "colab": {
          "base_uri": "https://localhost:8080/"
        },
        "id": "KHAVxPKUJ11q",
        "outputId": "caeca43d-406f-4295-b396-9261aa7eb85f"
      },
      "execution_count": null,
      "outputs": [
        {
          "output_type": "stream",
          "name": "stdout",
          "text": [
            "0       {'title': '35% of Warren Buffett's $296 Billio...\n",
            "1       {'title': 'Nvidia Stock Investors Just Got Bad...\n",
            "2       {'title': 'Meet the Magnificent Vanguard ETF W...\n",
            "3       {'title': 'How smartphones powered the AI boom...\n",
            "4       {'title': '35% of Warren Buffett's $296 Billio...\n",
            "                              ...                        \n",
            "2412    {'title': 'Magnificent Seven\" Dominate 2024: N...\n",
            "2413    {'title': 'The Top ETF of December & its Best-...\n",
            "2414    {'title': 'Mag 7 is turning to 'lag 7': How to...\n",
            "2415    {'title': 'Is Tesla's Stock Flying Too High? H...\n",
            "2416    {'title': 'Why Tesla (TSLA) Shares Are Falling...\n",
            "Name: article, Length: 2417, dtype: object\n"
          ]
        }
      ]
    },
    {
      "cell_type": "markdown",
      "metadata": {
        "id": "S3q4jRoaT2Lv"
      },
      "source": [
        "### Clean Data by removing Emails, links, and addresses"
      ]
    },
    {
      "cell_type": "code",
      "execution_count": null,
      "metadata": {
        "id": "fFFKnkgW8bYx"
      },
      "outputs": [],
      "source": [
        "\n",
        "def clean_text(text):\n",
        "    # Remove emails\n",
        "    text = re.sub(r'\\b\\S+@\\S+\\.\\S+\\b', '', text)\n",
        "\n",
        "    # Remove URLs\n",
        "    text = re.sub(r'https?://\\S+|www\\.\\S+', '', text)\n",
        "\n",
        "    # Remove full addresses\n",
        "    text = re.sub(r'\\d{1,5} [\\w\\s]+, [A-Za-z\\s]+, [A-Z]{2} \\d{5}', '', text)\n",
        "\n",
        "    # Remove phone numbers\n",
        "    text = re.sub(r'\\(?\\d{3}\\)?[-.\\s]?\\d{3}[-.\\s]?\\d{0,4}', '', text)\n",
        "\n",
        "    # Replace multiple spaces with a single space\n",
        "    text = re.sub(r'\\s+', ' ', text).strip()\n",
        "\n",
        "    return text\n",
        "\n"
      ]
    },
    {
      "cell_type": "code",
      "execution_count": null,
      "metadata": {
        "id": "0H8S7SlriEI2"
      },
      "outputs": [],
      "source": [
        "article_df[\"article\"] = article_df[\"article\"].apply(lambda x: {**x, \"content\": clean_text(x[\"content\"])})"
      ]
    },
    {
      "cell_type": "markdown",
      "metadata": {
        "id": "PmbJbeR1sOuI"
      },
      "source": [
        "#### Check for consistency"
      ]
    },
    {
      "cell_type": "code",
      "execution_count": null,
      "metadata": {
        "colab": {
          "base_uri": "https://localhost:8080/"
        },
        "id": "FaP98uWCm02d",
        "outputId": "cf429b93-8a2f-4c4b-afee-bcd652b862a8"
      },
      "outputs": [
        {
          "output_type": "stream",
          "name": "stdout",
          "text": [
            "When the curtain closes on 2024 in just four days, it'll likely go down as\n",
            "another phenomenal year for Wall Street and investors. On a year-to-date basis,\n",
            "as of the closing bell on Dec. 23, the ageless Dow Jones Industrial Average,\n",
            "benchmark S&P 500, and growth-powered Nasdaq Composite have respectively\n",
            "increased by 14%, 25%, and 32%. No shortage of catalysts is responsible for\n",
            "propelling Wall Street's major stock indexes to new heights, including the rise\n",
            "of artificial intelligence (AI), better-than-expected corporate earnings, and\n",
            "Donald Trump's November victory. Don't forget, the Dow, S&P 500, and Nasdaq\n",
            "Composite all rocketed higher during Trump's first term in the Oval Office. But\n",
            "perhaps Wall Street's unsung hero, which really helped to fuel the 2024 bull\n",
            "market rally, is the euphoria regarding stock splits. A stock split is a\n",
            "mechanism that allows publicly traded companies to adjust their share price and\n",
            "outstanding share count by the same factor. Keep in mind that changing a\n",
            "company's share price and share count by the same magnitude has no impact on its\n",
            "market cap or underlying operating performance. Although stock splits come in\n",
            "two varieties, investors overwhelmingly drifted toward industry-leading\n",
            "businesses conducting forward splits in 2024. A forward split reduces a\n",
            "company's share price, often with the goal of making shares more nominally\n",
            "affordable for investors who aren't able to buy fractional shares through their\n",
            "broker. This is the type of split high-flying companies that are out-innovating\n",
            "their peers undertake. To add, companies enacting forward splits have,\n",
            "historically, outperformed Wall Street's benchmark index. According to an\n",
            "analysis from Bank of America Global Research, forward-split stocks have\n",
            "averaged a 25.4% return in the 12 months following their announcement since\n",
            "1980, which compares to a more modest 11.9% return for the S&P 500 over the same\n",
            "timeline. This year, over a dozen prominent companies completed stock splits,\n",
            "including rapidly growing AI stocks Nvidia, Broadcom, and Super Micro Computer.\n",
            "But what investors really want to know is which stock is primed for a split and\n",
            "ready to captivate Wall Street's attention in 2025. The answer could be right\n",
            "under your nose within the ultra-popular \"Magnificent Seven.\" The Magnificent\n",
            "Seven is a term used to account for seven of the largest and most-influential\n",
            "publicly traded companies on Wall Street. In order of descending market cap,\n",
            "these seven components are: Apple Nvidia Microsoft Alphabet Amazon Meta\n",
            "Platforms (NASDAQ: META) Tesla These businesses have a lot in common. They've\n",
            "all handily outperformed Wall Street's major stock indexes over long periods,\n",
            "and they possess sustainable competitive advantages within their respective\n",
            "industries. But there is an industry leader among these seven that's truly\n",
            "unique, at least when it comes to completing stock splits. I'm talking about\n",
            "social media colossus Meta Platforms, which is the only Magnificent Seven member\n",
            "that's never completed a split. As of the closing bell on Dec. 23, Meta's shares\n",
            "were a stone's throw away from topping $600, and had handily surpassed $600 per\n",
            "share just two weeks prior. Without a split, investors without access to\n",
            "fractional-share purchasing through their broker may struggle to invest in the\n",
            "company behind leading social site Facebook. One of the key catalysts for\n",
            "announcing stock splits is a steadily rising share price. Based on Meta's\n",
            "competitive advantages and balance sheet, all signs point to this Mag-7 member\n",
            "having another phenomenal year in 2025. Although all eyes have been on Meta's AI\n",
            "and metaverse ambitions, it's important not to overlook its sheer dominance in\n",
            "the social media space. During the September-ended quarter, the company's family\n",
            "of apps, which includes Facebook, Instagram, WhatsApp, Facebook Messenger, and\n",
            "Threads, attracted 3.29 billion daily active users. No other social platform\n",
            "comes close to luring this many eyeballs daily, which is what typically affords\n",
            "Meta exceptional ad-pricing power. Nearly 98% of Meta's revenue can currently be\n",
            "traced to advertising. Meta has history on its side, as well. While ad spending\n",
            "tends to be highly cyclical, the U.S. economy spends a disproportionate amount\n",
            "of time expanding, relative to contracting. All 12 recessions since the end of\n",
            "World War II resolved between two and 18 months. By comparison, two periods of\n",
            "growth lasted beyond 10 years. The nonlinearity of economic cycles helps to fuel\n",
            "ad spending. Another reason Meta stock is thriving is because it's a cash cow.\n",
            "It closed out September with $70.9 billion in cash, cash equivalents, and\n",
            "marketable securities in its coffers, and has generated $63.3 billion in\n",
            "operating cash flow through the first nine months of 2024. It's one of very few\n",
            "public companies that can afford to take risks on high-growth initiatives thanks\n",
            "to its superior balance sheet. These \"risks\" allow it to aggressively invest in\n",
            "the AI revolution -- Meta is purchasing 350,000 H100 (\"Hopper\") graphics\n",
            "processing units from Nvidia for roughly $10.5 billion -- and position the\n",
            "company to be a key on-ramp to the metaverse in the latter half of this decade.\n",
            "To round things out, Meta Platforms' valuation also makes sense. Whereas Apple\n",
            "is valued at its highest trailing-12-month earnings multiple in a decade, and\n",
            "Nvidia crested a price-to-sales ratio of 40 during the summer, Meta Platforms is\n",
            "trading at less than 24 times forward-year earnings. What makes this multiple\n",
            "particularly cheap is that its earnings per share is forecast to grow by\n",
            "compound annual rate of more than 21% through 2027. Meta Platforms is perfectly\n",
            "positioned to become Wall Street's hottest stock-split stock of 2025. Before you\n",
            "buy stock in Meta Platforms, consider this: The Motley Fool Stock Advisor\n",
            "analyst team just identified what they believe are the 10 best stocks for\n",
            "investors to buy now… and Meta Platforms wasn’t one of them. The 10 stocks that\n",
            "made the cut could produce monster returns in the coming years. Consider when\n",
            "Nvidia made this list on April 15, 2005... if you invested $1,000 at the time of\n",
            "our recommendation, you’d have $859,342!* Stock Advisor provides investors with\n",
            "an easy-to-follow blueprint for success, including guidance on building a\n",
            "portfolio, regular updates from analysts, and two new stock picks each month.\n",
            "The Stock Advisor service has more than quadrupled the return of S&P 500 since\n",
            "2002*. See the 10 stocks » *Stock Advisor returns as of December 23, 2024 John\n",
            "Mackey, former CEO of Whole Foods Market, an Amazon subsidiary, is a member of\n",
            "The Motley Fool's board of directors. Bank of America is an advertising partner\n",
            "of Motley Fool Money. Suzanne Frey, an executive at Alphabet, is a member of The\n",
            "Motley Fool's board of directors. Randi Zuckerberg, a former director of market\n",
            "development and spokeswoman for Facebook and sister to Meta Platforms CEO Mark\n",
            "Zuckerberg, is a member of The Motley Fool's board of directors. Sean Williams\n",
            "has positions in Alphabet, Amazon, Bank of America, and Meta Platforms. The\n",
            "Motley Fool has positions in and recommends Alphabet, Amazon, Apple, Bank of\n",
            "America, Meta Platforms, Microsoft, Nvidia, and Tesla. The Motley Fool\n",
            "recommends Broadcom and recommends the following options: long January 2026 $395\n",
            "calls on Microsoft and short January 2026 $405 calls on Microsoft. The Motley\n",
            "Fool has a disclosure policy. Prediction: Wall Street's Most Unique Member of\n",
            "the \"Magnificent Seven\" Will Become the Hottest Stock-Split Stock of 2025 was\n",
            "originally published by The Motley Fool\n"
          ]
        }
      ],
      "source": [
        "import textwrap\n",
        "\n",
        "content = article_df[\"article\"][2400][\"content\"]\n",
        "\n",
        "# Use textwrap to format the text\n",
        "formatted_content = textwrap.fill(content, width=80)\n",
        "\n",
        "print(formatted_content)\n"
      ]
    },
    {
      "cell_type": "markdown",
      "metadata": {
        "id": "Ntv2Q_4jpjkv"
      },
      "source": [
        "###Split Articles by sentence"
      ]
    },
    {
      "cell_type": "code",
      "execution_count": null,
      "metadata": {
        "id": "lYPfTeB0pjOG"
      },
      "outputs": [],
      "source": [
        "from nltk.tokenize import sent_tokenize\n",
        "\n",
        "def split_by_sentences(text, id):\n",
        "    article_sentences = {}\n",
        "    sentences = sent_tokenize(text)\n",
        "    article_sentences = {\"id\": id, \"sentences\": sentences}\n",
        "    return article_sentences\n",
        "\n"
      ]
    },
    {
      "cell_type": "code",
      "source": [
        "articles_entities = []\n",
        "for i in range(len(article_df)):\n",
        "    text = article_df[\"article\"][i][\"content\"]\n",
        "    article_id = article_df[\"_id\"][i][\"$oid\"]\n",
        "    sentences = split_by_sentences(text=text, id=article_id)\n",
        "    articles_entities.append(sentences)"
      ],
      "metadata": {
        "id": "YQAzWuuRJRTv"
      },
      "execution_count": null,
      "outputs": []
    },
    {
      "cell_type": "code",
      "source": [
        "print(articles_entities[0:2])"
      ],
      "metadata": {
        "colab": {
          "base_uri": "https://localhost:8080/"
        },
        "id": "29ye8EFAK9F8",
        "outputId": "f13096fd-9d6f-472e-923e-f4c54e961867"
      },
      "execution_count": null,
      "outputs": [
        {
          "output_type": "stream",
          "name": "stdout",
          "text": [
            "[{'id': '676c877c746aa6fe346a31cc', 'sentences': ['Since Warren Buffett became the CEO of Berkshire Hathaway (NYSE: BRK.A)(NYSE: BRK.B) in 1965, its stock has delivered a compound annual return of 19.8%.', 'That would have been enough to turn a $1,000 investment into $42.5 million, whereas the same investment in the S&P 500 would have grown to just $325,053 over the same period.', \"Buffett's long-term investing strategy is simple.\", 'He buys into companies with steady growth, robust profitability, strong management teams, and shareholder-friendly initiatives like stock buyback programs and dividend schemes, which help to compound his returns over time.', \"You won't ever see Buffett chasing the latest stock market trend -- not even one as powerful as artificial intelligence (AI).\", \"With that said, three of the existing stocks in Berkshire's $296 billion portfolio of publicly traded securities are integrating AI into their legacy businesses in very unique ways.\", \"Amazon (NASDAQ: AMZN) is the world's largest e-commerce company.\", \"It's using AI in its fulfillment centers to drive efficiency, and it even created an AI shopping assistant called Rufus, which can help customers find the right products.\", \"However, most investors are focused on Amazon's cloud computing platform called Amazon Web Services (AWS), because it's trying to dominate the three core layers of AI: Infrastructure: AWS operates data centers fitted with Nvidia's industry-leading chips, but it also designed its own chips called Trainium (for AI training) and Inferentia (for AI inference).\", 'Trainium can save developers up to 50% on AI training costs compared to competing chips, and demand is so high that Amazon is producing more of them than it expected.', 'Large language models (LLMs): Developers can access leading third-party models from companies like Anthropic and Meta Platforms on the AWS Bedrock platform to accelerate their AI software projects.', 'Bedrock is also home to a family of LLMs called Titan, which Amazon built in-house.', \"Software: Amazon's new Q virtual assistant is embedded in AWS to help businesses extract valuable insights from their internal data.\", 'It can also generate computer code on demand to help developers build software.', 'During the third quarter of 2024, AWS revenue came in at $27.4 billion, which was a 19% increase from the year-ago period.', 'AI revenue within AWS, however, grew by a triple-digit percentage, and Amazon says this business is growing 3 times faster than the cloud business did at the same stage of its life cycle.', 'Berkshire invested in Amazon in 2019, although Buffett has often expressed regret for not buying the stock sooner.', \"However, Berkshire's stake is worth $2.2 billion as of this writing, so the conglomerate can still make a lot of money in the long run if Amazon's AI bets pay off.\", \"Coca-Cola (NYSE: KO) isn't a company people normally associate with cutting-edge technologies like AI, but it didn't become a global soda giant without a healthy splash of innovation.\", 'Last year, it even appointed a \"head of generative AI\" to oversee all the ways it uses this new technology.', \"AI is already a big part of Coca-Cola's marketing strategy.\", 'It recently launched an interactive campaign called \"Create Real Magic,\" which allows customers to input prompts into an AI image generator via its website to produce Christmas-themed digital snow globes.', 'These initiatives help the Coca-Cola brand engage with customers in new and exciting ways.', 'The company also used AI to create a promotional version of its flagship soda called Coca-Cola Y3000.', 'The goal was to predict what the drink might taste like in the year 3000 by using AI to analyze mountains of customer data.', 'Going forward, Coca-Cola plans to invest heavily in AI.', 'It recently struck a five-year deal with the Microsoft Azure cloud platform, where it will spend $1.1 billion tapping into AI services to improve its supply chains, productivity, and marketing.', 'Berkshire spent $1.3 billion to acquire 400 million shares in Coca-Cola between 1988 and 1994.', 'It has never sold a single share, and today, that position is worth a whopping $25 billion.', \"AI definitely wasn't part of Buffett's Coca-Cola investment thesis back then, but the technology could add significant value to his stake from here.\", 'Berkshire spent $38 billion acquiring a stake in Apple (NASDAQ: AAPL) between 2016 and 2023, and at the start of this year, that position was worth over $170 billion.', 'Talk about an incredible return!', 'However, Berkshire has sold more than half of its Apple shares throughout 2024.', \"Buffett might be concerned about the valuation of the broader stock market, so he's cashing in some of his biggest winners.\", 'Apple has experimented with AI for years.', 'It initially powered minor features like autocorrect, the recommendation engine in Apple Music, and even the Siri voice assistant.', 'However, the company recently launched Apple Intelligence (in partnership with OpenAI), which is transformational by comparison.', 'It introduces new writing tools capable of summarizing emails and texts, and it can even proofread or rewrite outgoing content.', 'Apple Intelligence can also generate images and learn what users care about the most in order to prioritize their notifications.', \"Plus, Siri now taps into the knowledge of OpenAI's ChatGPT software, so it's smarter than ever.\", 'There are more than 2.2 billion Apple devices worldwide, so the company could eventually become the biggest distributor of AI to consumers.', \"The continued rollout of new AI features might encourage customers to upgrade to the latest devices, which could also accelerate Apple's revenue and earnings growth in the near term.\", \"Apple stock remains Berkshire's largest holding, despite the spirited selling this year.\", \"Therefore, Buffett and his team could still benefit significantly if Apple's efforts in AI pay off.\", 'Before you buy stock in Amazon, consider this: The Motley Fool Stock Advisor analyst team just identified what they believe are the 10 best stocks for investors to buy now… and Amazon wasn’t one of them.', 'The 10 stocks that made the cut could produce monster returns in the coming years.', 'Consider when Nvidia made this list on April 15, 2005... if you invested $1,000 at the time of our recommendation, you’d have $855,971!', '* Stock Advisor provides investors with an easy-to-follow blueprint for success, including guidance on building a portfolio, regular updates from analysts, and two new stock picks each month.', 'The Stock Advisor service has more than quadrupled the return of S&P 500 since 2002*.', 'See the 10 stocks » *Stock Advisor returns as of December 23, 2024 John Mackey, former CEO of Whole Foods Market, an Amazon subsidiary, is a member of The Motley Fool’s board of directors.', \"Randi Zuckerberg, a former director of market development and spokeswoman for Facebook and sister to Meta Platforms CEO Mark Zuckerberg, is a member of The Motley Fool's board of directors.\", 'Anthony Di Pizio has no position in any of the stocks mentioned.', 'The Motley Fool has positions in and recommends Amazon, Apple, Berkshire Hathaway, Meta Platforms, Microsoft, and Nvidia.', 'The Motley Fool recommends the following options: long January 2026 $395 calls on Microsoft and short January 2026 $405 calls on Microsoft.', 'The Motley Fool has a disclosure policy.', \"35% of Warren Buffett's $296 Billion Portfolio Is Invested in 3 Artificial Intelligence (AI) Stocks was originally published by The Motley Fool\"]}, {'id': '676c877c746aa6fe346a31cd', 'sentences': ['Complex data center workloads like training machine learning models and running artificial intelligence (AI) applications would take a very long time if powered only by central processing units (CPUs).', 'To that end, specialized semiconductors are used to speed up computationally intensive AI tasks.', 'In that semiconductor vertical, Nvidia (NASDAQ: NVDA) graphics processing units (GPUs) have emerged as the industry standard.', 'In fact, the company has between 80% and 95% market share in AI accelerators, according to analysts.', 'But Nvidia shareholders recently got some worrisome news from rival Broadcom (NASDAQ: AVGO).', 'Broadcom sells a range of semiconductor products, including combined Wi-Fi and Bluetooth chips in Apple and Samsung smartphones, as well as networking chips in Arista switches.', 'But Wall Street is particularly fascinated by its leadership in application-specific integrated circuits (ASICs.)', 'ASICs are chips purpose-built for specific use cases like accelerating artificial intelligence (AI) workloads.', 'Analysts estimate Broadcom has approximately 60% market share in custom AI chips due to its relationships with three hyperscalers, a term that refers to companies with vast data center footprints.', 'While Broadcom has not identified its hyperscale customers, analysts generally believe they are Google parent Alphabet, Meta Platforms, and TikTok parent ByteDance.', 'Broadcom estimates revenue from its three existing hyperscale customers will range from $60 billion to $90 billion in 2027, up from $12.2 billion in 2024.', 'In other words, the company anticipates that custom AI chip sales will increase at least 70% annually in the next three years, but perhaps as quickly as 95% annually.', 'That is disappointing for Nvidia shareholders because it means Broadcom will likely gain market share in AI accelerators.', 'In fact, analysts at Morgan Stanley estimate that ASICs will account for 13% of AI accelerator sales in 2027, up from 11% in 2024.', 'They also think that figure could hit 15% in 2030.', 'But there is more bad news for Nvidia shareholders.', 'Broadcom CEO Hock Tan told analysts on the fourth-quarter earnings call that Broadcom has selected two new hyperscalers that are likely to be revenue-generating customers by 2027.', 'That means revenue from custom AI chips could actually grow faster than 95% annually in the next few years.', 'Importantly, while Broadcom did not identify the customers, analysts believe they are Apple and ChatGPT creator OpenAI.', 'I mentioned that Broadcom selected two additional hyperscalers as potential customers.', 'CEO Hock Tan himself used that word because Broadcom will not develop ASICs for small companies, nor would small companies have an interest in using custom AI chips.', 'There are two reasons for that.', 'First, designing ASICs is expensive, so the customer must have a data center footprint large enough to warrant the expense.', 'Piper Sandler analyst Harsh Kumar recently told CNBC that each chip costs about $500 million to design, so it would not be financially sensible to work with clients that can only order a few thousand.', 'Instead, orders must be in the range of 250,000 to 500,000 units.', 'Second, custom chips are less flexible because they are designed for specific workloads and lack supporting software development tools.', 'Nvidia offers a robust ecosystem of code libraries and pretrained models that streamline GPU application development.', 'No such tools exist for ASICs.', \"That means deploying custom chips requires a high degree of technical expertise, which means Broadcom's customer base is limited.\", 'Additionally, companies that experiment with ASICs may ultimately decide the costs outweigh the benefits.', 'Antoine Chkaiban at New Street Research says only two companies have deployed custom AI silicon at scale: Google and Amazon.', 'So Nvidia is well positioned to maintain its leadership in AI accelerators.', 'Bank of America analysts estimate it will capture 75% market share in 2030, down only slightly from 80% in 2024.', \"Looking ahead, Wall Street thinks Nvidia's adjusted earnings will increase at 34% annually through fiscal 2027, which ends in January 2027.\", 'That consensus makes the current valuation of 53 times adjusted earnings look very reasonable.', 'Prospective investors can buy a few shares with confidence, and current shareholders have good reason to optimistic going forward.', 'Ever feel like you missed the boat in buying the most successful stocks?', 'Then you’ll want to hear this.', 'On rare occasions, our expert team of analysts issues a “Double Down” stock recommendation for companies that they think are about to pop.', 'If you’re worried you’ve already missed your chance to invest, now is the best time to buy before it’s too late.', 'And the numbers speak for themselves: Nvidia: if you invested $1,000 when we doubled down in 2009, you’d have $362,166!', '* Apple: if you invested $1,000 when we doubled down in 2008, you’d have $48,344!', '* Netflix: if you invested $1,000 when we doubled down in 2004, you’d have $491,537!', '* Right now, we’re issuing “Double Down” alerts for three incredible companies, and there may not be another chance like this anytime soon.', 'See 3 “Double Down” stocks » *Stock Advisor returns as of December 23, 2024 John Mackey, former CEO of Whole Foods Market, an Amazon subsidiary, is a member of The Motley Fool’s board of directors.', 'Suzanne Frey, an executive at Alphabet, is a member of The Motley Fool’s board of directors.', 'Bank of America is an advertising partner of Motley Fool Money.', \"Randi Zuckerberg, a former director of market development and spokeswoman for Facebook and sister to Meta Platforms CEO Mark Zuckerberg, is a member of The Motley Fool's board of directors.\", 'Trevor Jennewine has positions in Amazon, Arista Networks, and Nvidia.', 'The Motley Fool has positions in and recommends Alphabet, Amazon, Apple, Arista Networks, Bank of America, Meta Platforms, and Nvidia.', 'The Motley Fool recommends Broadcom.', 'The Motley Fool has a disclosure policy.', 'Nvidia Stock Investors Just Got Bad News From AI Semiconductor Rival Broadcom was originally published by The Motley Fool']}]\n"
          ]
        }
      ]
    },
    {
      "cell_type": "markdown",
      "source": [
        "### NER for entities in article sentences"
      ],
      "metadata": {
        "id": "bRh1HdScHzjj"
      }
    },
    {
      "cell_type": "code",
      "source": [
        "ner_pipeline = pipeline(\"ner\", model=\"dbmdz/bert-large-cased-finetuned-conll03-english\", aggregation_strategy=\"simple\")"
      ],
      "metadata": {
        "colab": {
          "base_uri": "https://localhost:8080/"
        },
        "id": "U74eAYM0IFBi",
        "outputId": "4c498e15-9a16-4eef-b72a-2c88984dfcc7"
      },
      "execution_count": null,
      "outputs": [
        {
          "output_type": "stream",
          "name": "stderr",
          "text": [
            "Some weights of the model checkpoint at dbmdz/bert-large-cased-finetuned-conll03-english were not used when initializing BertForTokenClassification: ['bert.pooler.dense.bias', 'bert.pooler.dense.weight']\n",
            "- This IS expected if you are initializing BertForTokenClassification from the checkpoint of a model trained on another task or with another architecture (e.g. initializing a BertForSequenceClassification model from a BertForPreTraining model).\n",
            "- This IS NOT expected if you are initializing BertForTokenClassification from the checkpoint of a model that you expect to be exactly identical (initializing a BertForSequenceClassification model from a BertForSequenceClassification model).\n",
            "Device set to use cuda:0\n"
          ]
        }
      ]
    },
    {
      "cell_type": "code",
      "source": [
        "def extract_entities(sentence):\n",
        "  entities = ner_pipeline(sentence)\n",
        "  return entities"
      ],
      "metadata": {
        "id": "qLl6xwsrI8v6"
      },
      "execution_count": null,
      "outputs": []
    },
    {
      "cell_type": "markdown",
      "source": [
        "####Convert article_entities to Dataset"
      ],
      "metadata": {
        "id": "GHporMtvOhhd"
      }
    },
    {
      "cell_type": "code",
      "source": [
        "from datasets import Dataset\n",
        "\n",
        "\n",
        "### Must convert articles_entities to pandas dataframe for more efficient computation\n",
        "\n",
        "# Check the dataset\n",
        "print(dataset)\n"
      ],
      "metadata": {
        "colab": {
          "base_uri": "https://localhost:8080/"
        },
        "id": "c0-cLYR5Oiuk",
        "outputId": "b4de9419-981d-415b-c4fc-b2a97af70770"
      },
      "execution_count": null,
      "outputs": [
        {
          "output_type": "stream",
          "name": "stdout",
          "text": [
            "Dataset({\n",
            "    features: ['id', 'sentences'],\n",
            "    num_rows: 2417\n",
            "})\n"
          ]
        }
      ]
    },
    {
      "cell_type": "markdown",
      "source": [
        "####Apply NER to each sentence for each article"
      ],
      "metadata": {
        "id": "zZrHFHbPLI5H"
      }
    },
    {
      "cell_type": "code",
      "source": [
        "print(articles_entities[0])\n",
        "\n",
        "# for obj in articles_entities:\n",
        "#     sentences = obj[\"sentences\"]\n",
        "#     extracted_entities = []\n",
        "\n",
        "#     for i, sentence in enumerate(sentences):\n",
        "#         entities = extract_entities(sentence)\n",
        "#         extracted_entities.append({\"sentence\": i, \"entities\": entities})\n",
        "\n",
        "#     # Add to the current article object\n",
        "#     obj[\"extracted_entities\"] = extracted_entities\n"
      ],
      "metadata": {
        "colab": {
          "base_uri": "https://localhost:8080/"
        },
        "id": "yz1-XZo0LL-b",
        "outputId": "860a5915-47ac-4ab9-e38c-c69d3b456e6e"
      },
      "execution_count": null,
      "outputs": [
        {
          "output_type": "stream",
          "name": "stdout",
          "text": [
            "{'id': '676c877c746aa6fe346a31cc', 'sentences': ['Since Warren Buffett became the CEO of Berkshire Hathaway (NYSE: BRK.A)(NYSE: BRK.B) in 1965, its stock has delivered a compound annual return of 19.8%.', 'That would have been enough to turn a $1,000 investment into $42.5 million, whereas the same investment in the S&P 500 would have grown to just $325,053 over the same period.', \"Buffett's long-term investing strategy is simple.\", 'He buys into companies with steady growth, robust profitability, strong management teams, and shareholder-friendly initiatives like stock buyback programs and dividend schemes, which help to compound his returns over time.', \"You won't ever see Buffett chasing the latest stock market trend -- not even one as powerful as artificial intelligence (AI).\", \"With that said, three of the existing stocks in Berkshire's $296 billion portfolio of publicly traded securities are integrating AI into their legacy businesses in very unique ways.\", \"Amazon (NASDAQ: AMZN) is the world's largest e-commerce company.\", \"It's using AI in its fulfillment centers to drive efficiency, and it even created an AI shopping assistant called Rufus, which can help customers find the right products.\", \"However, most investors are focused on Amazon's cloud computing platform called Amazon Web Services (AWS), because it's trying to dominate the three core layers of AI: Infrastructure: AWS operates data centers fitted with Nvidia's industry-leading chips, but it also designed its own chips called Trainium (for AI training) and Inferentia (for AI inference).\", 'Trainium can save developers up to 50% on AI training costs compared to competing chips, and demand is so high that Amazon is producing more of them than it expected.', 'Large language models (LLMs): Developers can access leading third-party models from companies like Anthropic and Meta Platforms on the AWS Bedrock platform to accelerate their AI software projects.', 'Bedrock is also home to a family of LLMs called Titan, which Amazon built in-house.', \"Software: Amazon's new Q virtual assistant is embedded in AWS to help businesses extract valuable insights from their internal data.\", 'It can also generate computer code on demand to help developers build software.', 'During the third quarter of 2024, AWS revenue came in at $27.4 billion, which was a 19% increase from the year-ago period.', 'AI revenue within AWS, however, grew by a triple-digit percentage, and Amazon says this business is growing 3 times faster than the cloud business did at the same stage of its life cycle.', 'Berkshire invested in Amazon in 2019, although Buffett has often expressed regret for not buying the stock sooner.', \"However, Berkshire's stake is worth $2.2 billion as of this writing, so the conglomerate can still make a lot of money in the long run if Amazon's AI bets pay off.\", \"Coca-Cola (NYSE: KO) isn't a company people normally associate with cutting-edge technologies like AI, but it didn't become a global soda giant without a healthy splash of innovation.\", 'Last year, it even appointed a \"head of generative AI\" to oversee all the ways it uses this new technology.', \"AI is already a big part of Coca-Cola's marketing strategy.\", 'It recently launched an interactive campaign called \"Create Real Magic,\" which allows customers to input prompts into an AI image generator via its website to produce Christmas-themed digital snow globes.', 'These initiatives help the Coca-Cola brand engage with customers in new and exciting ways.', 'The company also used AI to create a promotional version of its flagship soda called Coca-Cola Y3000.', 'The goal was to predict what the drink might taste like in the year 3000 by using AI to analyze mountains of customer data.', 'Going forward, Coca-Cola plans to invest heavily in AI.', 'It recently struck a five-year deal with the Microsoft Azure cloud platform, where it will spend $1.1 billion tapping into AI services to improve its supply chains, productivity, and marketing.', 'Berkshire spent $1.3 billion to acquire 400 million shares in Coca-Cola between 1988 and 1994.', 'It has never sold a single share, and today, that position is worth a whopping $25 billion.', \"AI definitely wasn't part of Buffett's Coca-Cola investment thesis back then, but the technology could add significant value to his stake from here.\", 'Berkshire spent $38 billion acquiring a stake in Apple (NASDAQ: AAPL) between 2016 and 2023, and at the start of this year, that position was worth over $170 billion.', 'Talk about an incredible return!', 'However, Berkshire has sold more than half of its Apple shares throughout 2024.', \"Buffett might be concerned about the valuation of the broader stock market, so he's cashing in some of his biggest winners.\", 'Apple has experimented with AI for years.', 'It initially powered minor features like autocorrect, the recommendation engine in Apple Music, and even the Siri voice assistant.', 'However, the company recently launched Apple Intelligence (in partnership with OpenAI), which is transformational by comparison.', 'It introduces new writing tools capable of summarizing emails and texts, and it can even proofread or rewrite outgoing content.', 'Apple Intelligence can also generate images and learn what users care about the most in order to prioritize their notifications.', \"Plus, Siri now taps into the knowledge of OpenAI's ChatGPT software, so it's smarter than ever.\", 'There are more than 2.2 billion Apple devices worldwide, so the company could eventually become the biggest distributor of AI to consumers.', \"The continued rollout of new AI features might encourage customers to upgrade to the latest devices, which could also accelerate Apple's revenue and earnings growth in the near term.\", \"Apple stock remains Berkshire's largest holding, despite the spirited selling this year.\", \"Therefore, Buffett and his team could still benefit significantly if Apple's efforts in AI pay off.\", 'Before you buy stock in Amazon, consider this: The Motley Fool Stock Advisor analyst team just identified what they believe are the 10 best stocks for investors to buy now… and Amazon wasn’t one of them.', 'The 10 stocks that made the cut could produce monster returns in the coming years.', 'Consider when Nvidia made this list on April 15, 2005... if you invested $1,000 at the time of our recommendation, you’d have $855,971!', '* Stock Advisor provides investors with an easy-to-follow blueprint for success, including guidance on building a portfolio, regular updates from analysts, and two new stock picks each month.', 'The Stock Advisor service has more than quadrupled the return of S&P 500 since 2002*.', 'See the 10 stocks » *Stock Advisor returns as of December 23, 2024 John Mackey, former CEO of Whole Foods Market, an Amazon subsidiary, is a member of The Motley Fool’s board of directors.', \"Randi Zuckerberg, a former director of market development and spokeswoman for Facebook and sister to Meta Platforms CEO Mark Zuckerberg, is a member of The Motley Fool's board of directors.\", 'Anthony Di Pizio has no position in any of the stocks mentioned.', 'The Motley Fool has positions in and recommends Amazon, Apple, Berkshire Hathaway, Meta Platforms, Microsoft, and Nvidia.', 'The Motley Fool recommends the following options: long January 2026 $395 calls on Microsoft and short January 2026 $405 calls on Microsoft.', 'The Motley Fool has a disclosure policy.', \"35% of Warren Buffett's $296 Billion Portfolio Is Invested in 3 Artificial Intelligence (AI) Stocks was originally published by The Motley Fool\"], 'extracted_entities': [{'sentence': 0, 'entities': [{'entity_group': 'PER', 'score': 0.98126334, 'word': 'Warren Buffett', 'start': 6, 'end': 20}, {'entity_group': 'ORG', 'score': 0.9986316, 'word': 'Berkshire Hathaway', 'start': 39, 'end': 57}, {'entity_group': 'ORG', 'score': 0.3575333, 'word': 'NY', 'start': 59, 'end': 61}, {'entity_group': 'ORG', 'score': 0.81279856, 'word': 'BRK', 'start': 65, 'end': 68}, {'entity_group': 'ORG', 'score': 0.81496006, 'word': 'A', 'start': 69, 'end': 70}, {'entity_group': 'LOC', 'score': 0.42179856, 'word': 'NY', 'start': 72, 'end': 74}, {'entity_group': 'ORG', 'score': 0.48794493, 'word': 'BR', 'start': 78, 'end': 80}]}, {'sentence': 1, 'entities': [{'entity_group': 'MISC', 'score': 0.9745796, 'word': 'S & P 500', 'start': 111, 'end': 118}]}, {'sentence': 2, 'entities': [{'entity_group': 'PER', 'score': 0.8964656, 'word': 'Buffett', 'start': 0, 'end': 7}]}, {'sentence': 3, 'entities': []}, {'sentence': 4, 'entities': [{'entity_group': 'PER', 'score': 0.903995, 'word': 'Buffett', 'start': 19, 'end': 26}]}, {'sentence': 5, 'entities': [{'entity_group': 'ORG', 'score': 0.9985245, 'word': 'Berkshire', 'start': 48, 'end': 57}, {'entity_group': 'ORG', 'score': 0.93226415, 'word': 'AI', 'start': 129, 'end': 131}]}, {'sentence': 6, 'entities': [{'entity_group': 'ORG', 'score': 0.9989901, 'word': 'Amazon', 'start': 0, 'end': 6}, {'entity_group': 'MISC', 'score': 0.8679013, 'word': '##DA', 'start': 11, 'end': 13}, {'entity_group': 'ORG', 'score': 0.7743384, 'word': 'AMZN', 'start': 16, 'end': 20}]}, {'sentence': 7, 'entities': [{'entity_group': 'MISC', 'score': 0.54793257, 'word': 'AI', 'start': 11, 'end': 13}, {'entity_group': 'MISC', 'score': 0.7901764, 'word': 'AI', 'start': 85, 'end': 87}, {'entity_group': 'PER', 'score': 0.9427897, 'word': 'Rufus', 'start': 114, 'end': 119}]}, {'sentence': 8, 'entities': [{'entity_group': 'ORG', 'score': 0.9989858, 'word': 'Amazon', 'start': 39, 'end': 45}, {'entity_group': 'ORG', 'score': 0.99848604, 'word': 'Amazon Web Services', 'start': 80, 'end': 99}, {'entity_group': 'ORG', 'score': 0.9963427, 'word': 'AWS', 'start': 101, 'end': 104}, {'entity_group': 'MISC', 'score': 0.5063793, 'word': 'AI', 'start': 164, 'end': 166}, {'entity_group': 'ORG', 'score': 0.9966229, 'word': 'AWS', 'start': 184, 'end': 187}, {'entity_group': 'ORG', 'score': 0.9971276, 'word': 'Nvidia', 'start': 222, 'end': 228}, {'entity_group': 'ORG', 'score': 0.963475, 'word': 'Trainium', 'start': 297, 'end': 305}, {'entity_group': 'ORG', 'score': 0.9624611, 'word': 'Inferentia', 'start': 328, 'end': 338}]}, {'sentence': 9, 'entities': [{'entity_group': 'MISC', 'score': 0.42762434, 'word': 'Trainium', 'start': 0, 'end': 8}, {'entity_group': 'ORG', 'score': 0.99800926, 'word': 'Amazon', 'start': 116, 'end': 122}]}, {'sentence': 10, 'entities': [{'entity_group': 'ORG', 'score': 0.99565285, 'word': 'Anthropic', 'start': 99, 'end': 108}, {'entity_group': 'ORG', 'score': 0.99264705, 'word': 'Meta Platforms', 'start': 113, 'end': 127}, {'entity_group': 'ORG', 'score': 0.7669223, 'word': 'AWS Bedrock', 'start': 135, 'end': 146}]}, {'sentence': 11, 'entities': [{'entity_group': 'LOC', 'score': 0.58135486, 'word': 'Bedrock', 'start': 0, 'end': 7}, {'entity_group': 'ORG', 'score': 0.88209814, 'word': 'Titan', 'start': 48, 'end': 53}, {'entity_group': 'ORG', 'score': 0.99778146, 'word': 'Amazon', 'start': 61, 'end': 67}]}, {'sentence': 12, 'entities': [{'entity_group': 'ORG', 'score': 0.9984701, 'word': 'Amazon', 'start': 10, 'end': 16}, {'entity_group': 'ORG', 'score': 0.9694968, 'word': 'AWS', 'start': 58, 'end': 61}]}, {'sentence': 13, 'entities': []}, {'sentence': 14, 'entities': [{'entity_group': 'ORG', 'score': 0.9973352, 'word': 'AWS', 'start': 34, 'end': 37}]}, {'sentence': 15, 'entities': [{'entity_group': 'ORG', 'score': 0.9963142, 'word': 'AWS', 'start': 18, 'end': 21}, {'entity_group': 'ORG', 'score': 0.9990709, 'word': 'Amazon', 'start': 71, 'end': 77}]}, {'sentence': 16, 'entities': [{'entity_group': 'ORG', 'score': 0.997387, 'word': 'Berkshire', 'start': 0, 'end': 9}, {'entity_group': 'ORG', 'score': 0.9970638, 'word': 'Amazon', 'start': 22, 'end': 28}, {'entity_group': 'PER', 'score': 0.89190274, 'word': 'Buffett', 'start': 47, 'end': 54}]}, {'sentence': 17, 'entities': [{'entity_group': 'ORG', 'score': 0.99910706, 'word': 'Berkshire', 'start': 9, 'end': 18}, {'entity_group': 'ORG', 'score': 0.99927443, 'word': 'Amazon', 'start': 138, 'end': 144}]}, {'sentence': 18, 'entities': [{'entity_group': 'ORG', 'score': 0.9982745, 'word': 'Coca - Cola', 'start': 0, 'end': 9}, {'entity_group': 'LOC', 'score': 0.35629174, 'word': 'NY', 'start': 11, 'end': 13}, {'entity_group': 'ORG', 'score': 0.9393729, 'word': 'KO', 'start': 17, 'end': 19}, {'entity_group': 'MISC', 'score': 0.95020336, 'word': 'AI', 'start': 99, 'end': 101}]}, {'sentence': 19, 'entities': []}, {'sentence': 20, 'entities': [{'entity_group': 'ORG', 'score': 0.99718124, 'word': 'Coca - Cola', 'start': 28, 'end': 37}]}, {'sentence': 21, 'entities': [{'entity_group': 'MISC', 'score': 0.77077556, 'word': 'Create Real Magic', 'start': 53, 'end': 70}]}, {'sentence': 22, 'entities': [{'entity_group': 'ORG', 'score': 0.99555796, 'word': 'Coca - Cola', 'start': 27, 'end': 36}]}, {'sentence': 23, 'entities': [{'entity_group': 'ORG', 'score': 0.8926834, 'word': 'AI', 'start': 22, 'end': 24}, {'entity_group': 'MISC', 'score': 0.63357955, 'word': 'Coca', 'start': 85, 'end': 89}, {'entity_group': 'ORG', 'score': 0.83717024, 'word': '-', 'start': 89, 'end': 90}, {'entity_group': 'MISC', 'score': 0.8826158, 'word': 'Cola Y3000', 'start': 90, 'end': 100}]}, {'sentence': 24, 'entities': []}, {'sentence': 25, 'entities': [{'entity_group': 'ORG', 'score': 0.99884444, 'word': 'Coca - Cola', 'start': 15, 'end': 24}, {'entity_group': 'ORG', 'score': 0.9392195, 'word': 'AI', 'start': 52, 'end': 54}]}, {'sentence': 26, 'entities': [{'entity_group': 'ORG', 'score': 0.7024382, 'word': 'Microsoft', 'start': 45, 'end': 54}, {'entity_group': 'MISC', 'score': 0.82836705, 'word': 'A', 'start': 55, 'end': 56}, {'entity_group': 'ORG', 'score': 0.74481463, 'word': '##zure', 'start': 56, 'end': 60}]}, {'sentence': 27, 'entities': [{'entity_group': 'ORG', 'score': 0.999141, 'word': 'Berkshire', 'start': 0, 'end': 9}, {'entity_group': 'ORG', 'score': 0.99787945, 'word': 'Coca - Cola', 'start': 62, 'end': 71}]}, {'sentence': 28, 'entities': []}, {'sentence': 29, 'entities': [{'entity_group': 'MISC', 'score': 0.627185, 'word': 'AI', 'start': 0, 'end': 2}, {'entity_group': 'PER', 'score': 0.9095647, 'word': 'Buffett', 'start': 29, 'end': 36}, {'entity_group': 'ORG', 'score': 0.9391706, 'word': 'Coca - Cola', 'start': 39, 'end': 48}]}, {'sentence': 30, 'entities': [{'entity_group': 'ORG', 'score': 0.9985966, 'word': 'Berkshire', 'start': 0, 'end': 9}, {'entity_group': 'ORG', 'score': 0.99768865, 'word': 'Apple', 'start': 49, 'end': 54}, {'entity_group': 'MISC', 'score': 0.8871863, 'word': 'NASDA', 'start': 56, 'end': 61}, {'entity_group': 'ORG', 'score': 0.57048434, 'word': 'AAPL', 'start': 64, 'end': 68}]}, {'sentence': 31, 'entities': []}, {'sentence': 32, 'entities': [{'entity_group': 'ORG', 'score': 0.9979206, 'word': 'Berkshire', 'start': 9, 'end': 18}, {'entity_group': 'ORG', 'score': 0.99805546, 'word': 'Apple', 'start': 50, 'end': 55}]}, {'sentence': 33, 'entities': [{'entity_group': 'PER', 'score': 0.9557306, 'word': 'Buffett', 'start': 0, 'end': 7}]}, {'sentence': 34, 'entities': [{'entity_group': 'ORG', 'score': 0.998027, 'word': 'Apple', 'start': 0, 'end': 5}]}, {'sentence': 35, 'entities': [{'entity_group': 'ORG', 'score': 0.86297226, 'word': 'Apple Music', 'start': 83, 'end': 94}, {'entity_group': 'MISC', 'score': 0.74961674, 'word': 'Siri', 'start': 109, 'end': 113}]}, {'sentence': 36, 'entities': [{'entity_group': 'ORG', 'score': 0.9735732, 'word': 'Apple Intelligence', 'start': 39, 'end': 57}, {'entity_group': 'ORG', 'score': 0.9960141, 'word': 'OpenAI', 'start': 79, 'end': 85}]}, {'sentence': 37, 'entities': []}, {'sentence': 38, 'entities': [{'entity_group': 'ORG', 'score': 0.99742943, 'word': 'Apple Intelligence', 'start': 0, 'end': 18}]}, {'sentence': 39, 'entities': [{'entity_group': 'ORG', 'score': 0.9622266, 'word': 'Siri', 'start': 6, 'end': 10}, {'entity_group': 'ORG', 'score': 0.9960944, 'word': 'OpenAI', 'start': 42, 'end': 48}, {'entity_group': 'MISC', 'score': 0.66786397, 'word': 'Chat', 'start': 51, 'end': 55}]}, {'sentence': 40, 'entities': [{'entity_group': 'ORG', 'score': 0.98239094, 'word': 'Apple', 'start': 32, 'end': 37}]}, {'sentence': 41, 'entities': [{'entity_group': 'ORG', 'score': 0.9978447, 'word': 'Apple', 'start': 129, 'end': 134}]}, {'sentence': 42, 'entities': [{'entity_group': 'ORG', 'score': 0.996073, 'word': 'Apple', 'start': 0, 'end': 5}, {'entity_group': 'ORG', 'score': 0.99880433, 'word': 'Berkshire', 'start': 20, 'end': 29}]}, {'sentence': 43, 'entities': [{'entity_group': 'PER', 'score': 0.9443302, 'word': 'Buffett', 'start': 11, 'end': 18}, {'entity_group': 'ORG', 'score': 0.9984137, 'word': 'Apple', 'start': 69, 'end': 74}, {'entity_group': 'MISC', 'score': 0.5767399, 'word': 'AI', 'start': 88, 'end': 90}]}, {'sentence': 44, 'entities': [{'entity_group': 'ORG', 'score': 0.9955245, 'word': 'Amazon', 'start': 24, 'end': 30}, {'entity_group': 'ORG', 'score': 0.9983571, 'word': 'Motley Fool Stock Advisor', 'start': 51, 'end': 76}, {'entity_group': 'ORG', 'score': 0.9930836, 'word': 'Amazon', 'start': 177, 'end': 183}]}, {'sentence': 45, 'entities': []}, {'sentence': 46, 'entities': [{'entity_group': 'ORG', 'score': 0.9989894, 'word': 'Nvidia', 'start': 14, 'end': 20}]}, {'sentence': 47, 'entities': []}, {'sentence': 48, 'entities': [{'entity_group': 'ORG', 'score': 0.9862033, 'word': 'Stock Advisor', 'start': 4, 'end': 17}, {'entity_group': 'ORG', 'score': 0.9675827, 'word': 'S & P', 'start': 65, 'end': 68}, {'entity_group': 'MISC', 'score': 0.8282343, 'word': '500', 'start': 69, 'end': 72}]}, {'sentence': 49, 'entities': [{'entity_group': 'PER', 'score': 0.99938816, 'word': 'John Mackey', 'start': 67, 'end': 78}, {'entity_group': 'ORG', 'score': 0.9990079, 'word': 'Whole Foods Market', 'start': 94, 'end': 112}, {'entity_group': 'ORG', 'score': 0.99882954, 'word': 'Amazon', 'start': 117, 'end': 123}, {'entity_group': 'ORG', 'score': 0.8450567, 'word': 'The Motley Fool', 'start': 151, 'end': 166}, {'entity_group': 'ORG', 'score': 0.867975, 'word': 's', 'start': 167, 'end': 168}]}, {'sentence': 50, 'entities': [{'entity_group': 'PER', 'score': 0.98626083, 'word': 'Randi Zuckerberg', 'start': 0, 'end': 16}, {'entity_group': 'ORG', 'score': 0.9994696, 'word': 'Facebook', 'start': 78, 'end': 86}, {'entity_group': 'ORG', 'score': 0.9799951, 'word': 'Meta Platforms', 'start': 101, 'end': 115}, {'entity_group': 'PER', 'score': 0.94924796, 'word': 'Mark Zuckerberg', 'start': 120, 'end': 135}, {'entity_group': 'ORG', 'score': 0.98112684, 'word': 'The Motley Fool', 'start': 152, 'end': 167}, {'entity_group': 'ORG', 'score': 0.75814116, 'word': 's', 'start': 168, 'end': 169}]}, {'sentence': 51, 'entities': [{'entity_group': 'PER', 'score': 0.99816453, 'word': 'Anthony Di Pizio', 'start': 0, 'end': 16}]}, {'sentence': 52, 'entities': [{'entity_group': 'MISC', 'score': 0.8050935, 'word': 'Motley Fool', 'start': 4, 'end': 15}, {'entity_group': 'ORG', 'score': 0.99898344, 'word': 'Amazon', 'start': 48, 'end': 54}, {'entity_group': 'ORG', 'score': 0.9992285, 'word': 'Apple', 'start': 56, 'end': 61}, {'entity_group': 'ORG', 'score': 0.9976625, 'word': 'Berkshire Hathaway', 'start': 63, 'end': 81}, {'entity_group': 'ORG', 'score': 0.9940457, 'word': 'Meta Platforms', 'start': 83, 'end': 97}, {'entity_group': 'ORG', 'score': 0.99957556, 'word': 'Microsoft', 'start': 99, 'end': 108}, {'entity_group': 'ORG', 'score': 0.9983875, 'word': 'Nvidia', 'start': 114, 'end': 120}]}, {'sentence': 53, 'entities': [{'entity_group': 'MISC', 'score': 0.97307986, 'word': 'Motley Fool', 'start': 4, 'end': 15}, {'entity_group': 'ORG', 'score': 0.9992557, 'word': 'Microsoft', 'start': 82, 'end': 91}, {'entity_group': 'ORG', 'score': 0.99908364, 'word': 'Microsoft', 'start': 129, 'end': 138}]}, {'sentence': 54, 'entities': [{'entity_group': 'MISC', 'score': 0.95546705, 'word': 'Motley Fool', 'start': 4, 'end': 15}]}, {'sentence': 55, 'entities': [{'entity_group': 'PER', 'score': 0.8503357, 'word': 'Warren Buffett', 'start': 7, 'end': 21}, {'entity_group': 'ORG', 'score': 0.47729963, 'word': 'Art', 'start': 64, 'end': 67}, {'entity_group': 'MISC', 'score': 0.76079273, 'word': '##ificial Intelligence', 'start': 67, 'end': 87}, {'entity_group': 'MISC', 'score': 0.49088132, 'word': 'AI', 'start': 89, 'end': 91}, {'entity_group': 'ORG', 'score': 0.9886485, 'word': 'The Motley Fool', 'start': 128, 'end': 143}]}]}\n"
          ]
        }
      ]
    },
    {
      "cell_type": "markdown",
      "metadata": {
        "id": "a3CA82AQB-hq"
      },
      "source": [
        "### Stock Ticker Frequency Counter"
      ]
    },
    {
      "cell_type": "code",
      "execution_count": null,
      "metadata": {
        "id": "_K-5DV44jA9o"
      },
      "outputs": [],
      "source": [
        "\n",
        "def company_freq_counter(text):\n",
        "  return True\n"
      ]
    }
  ],
  "metadata": {
    "colab": {
      "provenance": [],
      "gpuType": "T4",
      "mount_file_id": "1T6L8fZM7HC_9hgHE-li4wSZGeg3307-I",
      "authorship_tag": "ABX9TyM5jCRbhiieVzh/H6nEewAA",
      "include_colab_link": true
    },
    "kernelspec": {
      "display_name": "Python 3",
      "name": "python3"
    },
    "language_info": {
      "name": "python"
    },
    "widgets": {
      "application/vnd.jupyter.widget-state+json": {
        "063b9fc509fe407ea4c4e9f2d3584179": {
          "model_module": "@jupyter-widgets/controls",
          "model_module_version": "1.5.0",
          "model_name": "FloatProgressModel",
          "state": {
            "_dom_classes": [],
            "_model_module": "@jupyter-widgets/controls",
            "_model_module_version": "1.5.0",
            "_model_name": "FloatProgressModel",
            "_view_count": null,
            "_view_module": "@jupyter-widgets/controls",
            "_view_module_version": "1.5.0",
            "_view_name": "ProgressView",
            "bar_style": "success",
            "description": "",
            "description_tooltip": null,
            "layout": "IPY_MODEL_f165630e68ec42c89d36d75f8ebcc392",
            "max": 758,
            "min": 0,
            "orientation": "horizontal",
            "style": "IPY_MODEL_314c1e7e0eaf4c74bcb6376bfdf628d6",
            "value": 758
          }
        },
        "06f661972d364e638e86a531e5754673": {
          "model_module": "@jupyter-widgets/controls",
          "model_module_version": "1.5.0",
          "model_name": "HTMLModel",
          "state": {
            "_dom_classes": [],
            "_model_module": "@jupyter-widgets/controls",
            "_model_module_version": "1.5.0",
            "_model_name": "HTMLModel",
            "_view_count": null,
            "_view_module": "@jupyter-widgets/controls",
            "_view_module_version": "1.5.0",
            "_view_name": "HTMLView",
            "description": "",
            "description_tooltip": null,
            "layout": "IPY_MODEL_db77091182134ee1bfb53f2c8dea8f4c",
            "placeholder": "​",
            "style": "IPY_MODEL_8ddc8394dff24f249653fe4cca1bb396",
            "value": "special_tokens_map.json: 100%"
          }
        },
        "08f6d5cbf178425d9127f7fa03483d52": {
          "model_module": "@jupyter-widgets/controls",
          "model_module_version": "1.5.0",
          "model_name": "HBoxModel",
          "state": {
            "_dom_classes": [],
            "_model_module": "@jupyter-widgets/controls",
            "_model_module_version": "1.5.0",
            "_model_name": "HBoxModel",
            "_view_count": null,
            "_view_module": "@jupyter-widgets/controls",
            "_view_module_version": "1.5.0",
            "_view_name": "HBoxView",
            "box_style": "",
            "children": [
              "IPY_MODEL_06f661972d364e638e86a531e5754673",
              "IPY_MODEL_d79c79a232494930813930cd5c6188d4",
              "IPY_MODEL_e7e6914385bd4449b250c7c8fd0ef210"
            ],
            "layout": "IPY_MODEL_b818368a3bb14c3ea79701a12212a629"
          }
        },
        "0da7b2232c4e4b8d86e56201ecd92a21": {
          "model_module": "@jupyter-widgets/base",
          "model_module_version": "1.2.0",
          "model_name": "LayoutModel",
          "state": {
            "_model_module": "@jupyter-widgets/base",
            "_model_module_version": "1.2.0",
            "_model_name": "LayoutModel",
            "_view_count": null,
            "_view_module": "@jupyter-widgets/base",
            "_view_module_version": "1.2.0",
            "_view_name": "LayoutView",
            "align_content": null,
            "align_items": null,
            "align_self": null,
            "border": null,
            "bottom": null,
            "display": null,
            "flex": null,
            "flex_flow": null,
            "grid_area": null,
            "grid_auto_columns": null,
            "grid_auto_flow": null,
            "grid_auto_rows": null,
            "grid_column": null,
            "grid_gap": null,
            "grid_row": null,
            "grid_template_areas": null,
            "grid_template_columns": null,
            "grid_template_rows": null,
            "height": null,
            "justify_content": null,
            "justify_items": null,
            "left": null,
            "margin": null,
            "max_height": null,
            "max_width": null,
            "min_height": null,
            "min_width": null,
            "object_fit": null,
            "object_position": null,
            "order": null,
            "overflow": null,
            "overflow_x": null,
            "overflow_y": null,
            "padding": null,
            "right": null,
            "top": null,
            "visibility": null,
            "width": null
          }
        },
        "0e8f8feacbd74804998c2dc0ddbabc52": {
          "model_module": "@jupyter-widgets/controls",
          "model_module_version": "1.5.0",
          "model_name": "HBoxModel",
          "state": {
            "_dom_classes": [],
            "_model_module": "@jupyter-widgets/controls",
            "_model_module_version": "1.5.0",
            "_model_name": "HBoxModel",
            "_view_count": null,
            "_view_module": "@jupyter-widgets/controls",
            "_view_module_version": "1.5.0",
            "_view_name": "HBoxView",
            "box_style": "",
            "children": [
              "IPY_MODEL_baaddcc9f72f4a9da7b0bb3df4bcd1b5",
              "IPY_MODEL_df6bbe95c7594a7aa439fc4ef8485b39",
              "IPY_MODEL_76f7958b99e04bf487626072cef14264"
            ],
            "layout": "IPY_MODEL_524da4ea4e144b19bd679d4627667343"
          }
        },
        "12f47ec58c49483cbe9a15761c67521d": {
          "model_module": "@jupyter-widgets/base",
          "model_module_version": "1.2.0",
          "model_name": "LayoutModel",
          "state": {
            "_model_module": "@jupyter-widgets/base",
            "_model_module_version": "1.2.0",
            "_model_name": "LayoutModel",
            "_view_count": null,
            "_view_module": "@jupyter-widgets/base",
            "_view_module_version": "1.2.0",
            "_view_name": "LayoutView",
            "align_content": null,
            "align_items": null,
            "align_self": null,
            "border": null,
            "bottom": null,
            "display": null,
            "flex": null,
            "flex_flow": null,
            "grid_area": null,
            "grid_auto_columns": null,
            "grid_auto_flow": null,
            "grid_auto_rows": null,
            "grid_column": null,
            "grid_gap": null,
            "grid_row": null,
            "grid_template_areas": null,
            "grid_template_columns": null,
            "grid_template_rows": null,
            "height": null,
            "justify_content": null,
            "justify_items": null,
            "left": null,
            "margin": null,
            "max_height": null,
            "max_width": null,
            "min_height": null,
            "min_width": null,
            "object_fit": null,
            "object_position": null,
            "order": null,
            "overflow": null,
            "overflow_x": null,
            "overflow_y": null,
            "padding": null,
            "right": null,
            "top": null,
            "visibility": null,
            "width": null
          }
        },
        "151fd04139e24afaa8fe518e0db47642": {
          "model_module": "@jupyter-widgets/controls",
          "model_module_version": "1.5.0",
          "model_name": "DescriptionStyleModel",
          "state": {
            "_model_module": "@jupyter-widgets/controls",
            "_model_module_version": "1.5.0",
            "_model_name": "DescriptionStyleModel",
            "_view_count": null,
            "_view_module": "@jupyter-widgets/base",
            "_view_module_version": "1.2.0",
            "_view_name": "StyleView",
            "description_width": ""
          }
        },
        "15db67f9e26c47fc945ea4201931235c": {
          "model_module": "@jupyter-widgets/controls",
          "model_module_version": "1.5.0",
          "model_name": "HTMLModel",
          "state": {
            "_dom_classes": [],
            "_model_module": "@jupyter-widgets/controls",
            "_model_module_version": "1.5.0",
            "_model_name": "HTMLModel",
            "_view_count": null,
            "_view_module": "@jupyter-widgets/controls",
            "_view_module_version": "1.5.0",
            "_view_name": "HTMLView",
            "description": "",
            "description_tooltip": null,
            "layout": "IPY_MODEL_a8fd475b1d4542dcbfa592fee6ded396",
            "placeholder": "​",
            "style": "IPY_MODEL_151fd04139e24afaa8fe518e0db47642",
            "value": "config.json: 100%"
          }
        },
        "233fa31e842144e39da34e490d61f048": {
          "model_module": "@jupyter-widgets/controls",
          "model_module_version": "1.5.0",
          "model_name": "FloatProgressModel",
          "state": {
            "_dom_classes": [],
            "_model_module": "@jupyter-widgets/controls",
            "_model_module_version": "1.5.0",
            "_model_name": "FloatProgressModel",
            "_view_count": null,
            "_view_module": "@jupyter-widgets/controls",
            "_view_module_version": "1.5.0",
            "_view_name": "ProgressView",
            "bar_style": "success",
            "description": "",
            "description_tooltip": null,
            "layout": "IPY_MODEL_63b3160d8f9a474aa9f243b1002774e3",
            "max": 437992753,
            "min": 0,
            "orientation": "horizontal",
            "style": "IPY_MODEL_f15de415d7124fce8fcf2274d04bd18d",
            "value": 437992753
          }
        },
        "314c1e7e0eaf4c74bcb6376bfdf628d6": {
          "model_module": "@jupyter-widgets/controls",
          "model_module_version": "1.5.0",
          "model_name": "ProgressStyleModel",
          "state": {
            "_model_module": "@jupyter-widgets/controls",
            "_model_module_version": "1.5.0",
            "_model_name": "ProgressStyleModel",
            "_view_count": null,
            "_view_module": "@jupyter-widgets/base",
            "_view_module_version": "1.2.0",
            "_view_name": "StyleView",
            "bar_color": null,
            "description_width": ""
          }
        },
        "433f09b6b5964b3b8e3755aa36db75ec": {
          "model_module": "@jupyter-widgets/controls",
          "model_module_version": "1.5.0",
          "model_name": "DescriptionStyleModel",
          "state": {
            "_model_module": "@jupyter-widgets/controls",
            "_model_module_version": "1.5.0",
            "_model_name": "DescriptionStyleModel",
            "_view_count": null,
            "_view_module": "@jupyter-widgets/base",
            "_view_module_version": "1.2.0",
            "_view_name": "StyleView",
            "description_width": ""
          }
        },
        "443b20128bc741818b8ed351ea5502e1": {
          "model_module": "@jupyter-widgets/base",
          "model_module_version": "1.2.0",
          "model_name": "LayoutModel",
          "state": {
            "_model_module": "@jupyter-widgets/base",
            "_model_module_version": "1.2.0",
            "_model_name": "LayoutModel",
            "_view_count": null,
            "_view_module": "@jupyter-widgets/base",
            "_view_module_version": "1.2.0",
            "_view_name": "LayoutView",
            "align_content": null,
            "align_items": null,
            "align_self": null,
            "border": null,
            "bottom": null,
            "display": null,
            "flex": null,
            "flex_flow": null,
            "grid_area": null,
            "grid_auto_columns": null,
            "grid_auto_flow": null,
            "grid_auto_rows": null,
            "grid_column": null,
            "grid_gap": null,
            "grid_row": null,
            "grid_template_areas": null,
            "grid_template_columns": null,
            "grid_template_rows": null,
            "height": null,
            "justify_content": null,
            "justify_items": null,
            "left": null,
            "margin": null,
            "max_height": null,
            "max_width": null,
            "min_height": null,
            "min_width": null,
            "object_fit": null,
            "object_position": null,
            "order": null,
            "overflow": null,
            "overflow_x": null,
            "overflow_y": null,
            "padding": null,
            "right": null,
            "top": null,
            "visibility": null,
            "width": null
          }
        },
        "4af79c24ad784ef9be7f215937c6f9f1": {
          "model_module": "@jupyter-widgets/controls",
          "model_module_version": "1.5.0",
          "model_name": "HTMLModel",
          "state": {
            "_dom_classes": [],
            "_model_module": "@jupyter-widgets/controls",
            "_model_module_version": "1.5.0",
            "_model_name": "HTMLModel",
            "_view_count": null,
            "_view_module": "@jupyter-widgets/controls",
            "_view_module_version": "1.5.0",
            "_view_name": "HTMLView",
            "description": "",
            "description_tooltip": null,
            "layout": "IPY_MODEL_c7f6278d0d5d46c59010f1ab71604cb1",
            "placeholder": "​",
            "style": "IPY_MODEL_d3c5b748d2b74cf0b608285831dd216b",
            "value": " 438M/438M [00:02&lt;00:00, 237MB/s]"
          }
        },
        "524da4ea4e144b19bd679d4627667343": {
          "model_module": "@jupyter-widgets/base",
          "model_module_version": "1.2.0",
          "model_name": "LayoutModel",
          "state": {
            "_model_module": "@jupyter-widgets/base",
            "_model_module_version": "1.2.0",
            "_model_name": "LayoutModel",
            "_view_count": null,
            "_view_module": "@jupyter-widgets/base",
            "_view_module_version": "1.2.0",
            "_view_name": "LayoutView",
            "align_content": null,
            "align_items": null,
            "align_self": null,
            "border": null,
            "bottom": null,
            "display": null,
            "flex": null,
            "flex_flow": null,
            "grid_area": null,
            "grid_auto_columns": null,
            "grid_auto_flow": null,
            "grid_auto_rows": null,
            "grid_column": null,
            "grid_gap": null,
            "grid_row": null,
            "grid_template_areas": null,
            "grid_template_columns": null,
            "grid_template_rows": null,
            "height": null,
            "justify_content": null,
            "justify_items": null,
            "left": null,
            "margin": null,
            "max_height": null,
            "max_width": null,
            "min_height": null,
            "min_width": null,
            "object_fit": null,
            "object_position": null,
            "order": null,
            "overflow": null,
            "overflow_x": null,
            "overflow_y": null,
            "padding": null,
            "right": null,
            "top": null,
            "visibility": null,
            "width": null
          }
        },
        "57c753c297f446e68a200fd62a6e908a": {
          "model_module": "@jupyter-widgets/controls",
          "model_module_version": "1.5.0",
          "model_name": "HBoxModel",
          "state": {
            "_dom_classes": [],
            "_model_module": "@jupyter-widgets/controls",
            "_model_module_version": "1.5.0",
            "_model_name": "HBoxModel",
            "_view_count": null,
            "_view_module": "@jupyter-widgets/controls",
            "_view_module_version": "1.5.0",
            "_view_name": "HBoxView",
            "box_style": "",
            "children": [
              "IPY_MODEL_b203dd12d7814a518e983ac1f4feb1ea",
              "IPY_MODEL_87cfb07bb0384483beb8b22e10486c33",
              "IPY_MODEL_fa2db381bdbe46ca9c61aa817e873149"
            ],
            "layout": "IPY_MODEL_0da7b2232c4e4b8d86e56201ecd92a21"
          }
        },
        "599bfcfe3b894979a56a71f5e1ab1485": {
          "model_module": "@jupyter-widgets/controls",
          "model_module_version": "1.5.0",
          "model_name": "ProgressStyleModel",
          "state": {
            "_model_module": "@jupyter-widgets/controls",
            "_model_module_version": "1.5.0",
            "_model_name": "ProgressStyleModel",
            "_view_count": null,
            "_view_module": "@jupyter-widgets/base",
            "_view_module_version": "1.2.0",
            "_view_name": "StyleView",
            "bar_color": null,
            "description_width": ""
          }
        },
        "63b3160d8f9a474aa9f243b1002774e3": {
          "model_module": "@jupyter-widgets/base",
          "model_module_version": "1.2.0",
          "model_name": "LayoutModel",
          "state": {
            "_model_module": "@jupyter-widgets/base",
            "_model_module_version": "1.2.0",
            "_model_name": "LayoutModel",
            "_view_count": null,
            "_view_module": "@jupyter-widgets/base",
            "_view_module_version": "1.2.0",
            "_view_name": "LayoutView",
            "align_content": null,
            "align_items": null,
            "align_self": null,
            "border": null,
            "bottom": null,
            "display": null,
            "flex": null,
            "flex_flow": null,
            "grid_area": null,
            "grid_auto_columns": null,
            "grid_auto_flow": null,
            "grid_auto_rows": null,
            "grid_column": null,
            "grid_gap": null,
            "grid_row": null,
            "grid_template_areas": null,
            "grid_template_columns": null,
            "grid_template_rows": null,
            "height": null,
            "justify_content": null,
            "justify_items": null,
            "left": null,
            "margin": null,
            "max_height": null,
            "max_width": null,
            "min_height": null,
            "min_width": null,
            "object_fit": null,
            "object_position": null,
            "order": null,
            "overflow": null,
            "overflow_x": null,
            "overflow_y": null,
            "padding": null,
            "right": null,
            "top": null,
            "visibility": null,
            "width": null
          }
        },
        "6586c46bc8994f9fb82fa1e5ceb1e533": {
          "model_module": "@jupyter-widgets/controls",
          "model_module_version": "1.5.0",
          "model_name": "ProgressStyleModel",
          "state": {
            "_model_module": "@jupyter-widgets/controls",
            "_model_module_version": "1.5.0",
            "_model_name": "ProgressStyleModel",
            "_view_count": null,
            "_view_module": "@jupyter-widgets/base",
            "_view_module_version": "1.2.0",
            "_view_name": "StyleView",
            "bar_color": null,
            "description_width": ""
          }
        },
        "76f7958b99e04bf487626072cef14264": {
          "model_module": "@jupyter-widgets/controls",
          "model_module_version": "1.5.0",
          "model_name": "HTMLModel",
          "state": {
            "_dom_classes": [],
            "_model_module": "@jupyter-widgets/controls",
            "_model_module_version": "1.5.0",
            "_model_name": "HTMLModel",
            "_view_count": null,
            "_view_module": "@jupyter-widgets/controls",
            "_view_module_version": "1.5.0",
            "_view_name": "HTMLView",
            "description": "",
            "description_tooltip": null,
            "layout": "IPY_MODEL_881163a9dc8743d6aed5a35a7805a14f",
            "placeholder": "​",
            "style": "IPY_MODEL_7b16ebe3b58f4791b1fd77c62dd2a388",
            "value": " 252/252 [00:00&lt;00:00, 6.26kB/s]"
          }
        },
        "77946e129c074f2f94c4e535ad401561": {
          "model_module": "@jupyter-widgets/controls",
          "model_module_version": "1.5.0",
          "model_name": "DescriptionStyleModel",
          "state": {
            "_model_module": "@jupyter-widgets/controls",
            "_model_module_version": "1.5.0",
            "_model_name": "DescriptionStyleModel",
            "_view_count": null,
            "_view_module": "@jupyter-widgets/base",
            "_view_module_version": "1.2.0",
            "_view_name": "StyleView",
            "description_width": ""
          }
        },
        "7b16ebe3b58f4791b1fd77c62dd2a388": {
          "model_module": "@jupyter-widgets/controls",
          "model_module_version": "1.5.0",
          "model_name": "DescriptionStyleModel",
          "state": {
            "_model_module": "@jupyter-widgets/controls",
            "_model_module_version": "1.5.0",
            "_model_name": "DescriptionStyleModel",
            "_view_count": null,
            "_view_module": "@jupyter-widgets/base",
            "_view_module_version": "1.2.0",
            "_view_name": "StyleView",
            "description_width": ""
          }
        },
        "80f07d14e91a45eaaf1b8b1ffe644318": {
          "model_module": "@jupyter-widgets/controls",
          "model_module_version": "1.5.0",
          "model_name": "HBoxModel",
          "state": {
            "_dom_classes": [],
            "_model_module": "@jupyter-widgets/controls",
            "_model_module_version": "1.5.0",
            "_model_name": "HBoxModel",
            "_view_count": null,
            "_view_module": "@jupyter-widgets/controls",
            "_view_module_version": "1.5.0",
            "_view_name": "HBoxView",
            "box_style": "",
            "children": [
              "IPY_MODEL_de60ff5b6e7d4439a7f11a1401ed93d8",
              "IPY_MODEL_233fa31e842144e39da34e490d61f048",
              "IPY_MODEL_4af79c24ad784ef9be7f215937c6f9f1"
            ],
            "layout": "IPY_MODEL_ec3bab3c3a5248bba6fabe29fa6c6c1b"
          }
        },
        "823ffdcd6c064119bccfd671eccd4ca8": {
          "model_module": "@jupyter-widgets/base",
          "model_module_version": "1.2.0",
          "model_name": "LayoutModel",
          "state": {
            "_model_module": "@jupyter-widgets/base",
            "_model_module_version": "1.2.0",
            "_model_name": "LayoutModel",
            "_view_count": null,
            "_view_module": "@jupyter-widgets/base",
            "_view_module_version": "1.2.0",
            "_view_name": "LayoutView",
            "align_content": null,
            "align_items": null,
            "align_self": null,
            "border": null,
            "bottom": null,
            "display": null,
            "flex": null,
            "flex_flow": null,
            "grid_area": null,
            "grid_auto_columns": null,
            "grid_auto_flow": null,
            "grid_auto_rows": null,
            "grid_column": null,
            "grid_gap": null,
            "grid_row": null,
            "grid_template_areas": null,
            "grid_template_columns": null,
            "grid_template_rows": null,
            "height": null,
            "justify_content": null,
            "justify_items": null,
            "left": null,
            "margin": null,
            "max_height": null,
            "max_width": null,
            "min_height": null,
            "min_width": null,
            "object_fit": null,
            "object_position": null,
            "order": null,
            "overflow": null,
            "overflow_x": null,
            "overflow_y": null,
            "padding": null,
            "right": null,
            "top": null,
            "visibility": null,
            "width": null
          }
        },
        "82d7462a891249b3b97974f5be4e03c4": {
          "model_module": "@jupyter-widgets/base",
          "model_module_version": "1.2.0",
          "model_name": "LayoutModel",
          "state": {
            "_model_module": "@jupyter-widgets/base",
            "_model_module_version": "1.2.0",
            "_model_name": "LayoutModel",
            "_view_count": null,
            "_view_module": "@jupyter-widgets/base",
            "_view_module_version": "1.2.0",
            "_view_name": "LayoutView",
            "align_content": null,
            "align_items": null,
            "align_self": null,
            "border": null,
            "bottom": null,
            "display": null,
            "flex": null,
            "flex_flow": null,
            "grid_area": null,
            "grid_auto_columns": null,
            "grid_auto_flow": null,
            "grid_auto_rows": null,
            "grid_column": null,
            "grid_gap": null,
            "grid_row": null,
            "grid_template_areas": null,
            "grid_template_columns": null,
            "grid_template_rows": null,
            "height": null,
            "justify_content": null,
            "justify_items": null,
            "left": null,
            "margin": null,
            "max_height": null,
            "max_width": null,
            "min_height": null,
            "min_width": null,
            "object_fit": null,
            "object_position": null,
            "order": null,
            "overflow": null,
            "overflow_x": null,
            "overflow_y": null,
            "padding": null,
            "right": null,
            "top": null,
            "visibility": null,
            "width": null
          }
        },
        "8608a151bada442aa04ba507283817cb": {
          "model_module": "@jupyter-widgets/controls",
          "model_module_version": "1.5.0",
          "model_name": "HTMLModel",
          "state": {
            "_dom_classes": [],
            "_model_module": "@jupyter-widgets/controls",
            "_model_module_version": "1.5.0",
            "_model_name": "HTMLModel",
            "_view_count": null,
            "_view_module": "@jupyter-widgets/controls",
            "_view_module_version": "1.5.0",
            "_view_name": "HTMLView",
            "description": "",
            "description_tooltip": null,
            "layout": "IPY_MODEL_cc5a67e4bd5543caa9e5344ba82fdae6",
            "placeholder": "​",
            "style": "IPY_MODEL_77946e129c074f2f94c4e535ad401561",
            "value": " 758/758 [00:00&lt;00:00, 39.1kB/s]"
          }
        },
        "87cfb07bb0384483beb8b22e10486c33": {
          "model_module": "@jupyter-widgets/controls",
          "model_module_version": "1.5.0",
          "model_name": "FloatProgressModel",
          "state": {
            "_dom_classes": [],
            "_model_module": "@jupyter-widgets/controls",
            "_model_module_version": "1.5.0",
            "_model_name": "FloatProgressModel",
            "_view_count": null,
            "_view_module": "@jupyter-widgets/controls",
            "_view_module_version": "1.5.0",
            "_view_name": "ProgressView",
            "bar_style": "success",
            "description": "",
            "description_tooltip": null,
            "layout": "IPY_MODEL_922b2ef2bbd2418ab51f136ce39ef9ef",
            "max": 231508,
            "min": 0,
            "orientation": "horizontal",
            "style": "IPY_MODEL_b2e09d11eb4046c1b6c1c8ef2a79267d",
            "value": 231508
          }
        },
        "881163a9dc8743d6aed5a35a7805a14f": {
          "model_module": "@jupyter-widgets/base",
          "model_module_version": "1.2.0",
          "model_name": "LayoutModel",
          "state": {
            "_model_module": "@jupyter-widgets/base",
            "_model_module_version": "1.2.0",
            "_model_name": "LayoutModel",
            "_view_count": null,
            "_view_module": "@jupyter-widgets/base",
            "_view_module_version": "1.2.0",
            "_view_name": "LayoutView",
            "align_content": null,
            "align_items": null,
            "align_self": null,
            "border": null,
            "bottom": null,
            "display": null,
            "flex": null,
            "flex_flow": null,
            "grid_area": null,
            "grid_auto_columns": null,
            "grid_auto_flow": null,
            "grid_auto_rows": null,
            "grid_column": null,
            "grid_gap": null,
            "grid_row": null,
            "grid_template_areas": null,
            "grid_template_columns": null,
            "grid_template_rows": null,
            "height": null,
            "justify_content": null,
            "justify_items": null,
            "left": null,
            "margin": null,
            "max_height": null,
            "max_width": null,
            "min_height": null,
            "min_width": null,
            "object_fit": null,
            "object_position": null,
            "order": null,
            "overflow": null,
            "overflow_x": null,
            "overflow_y": null,
            "padding": null,
            "right": null,
            "top": null,
            "visibility": null,
            "width": null
          }
        },
        "8ddc8394dff24f249653fe4cca1bb396": {
          "model_module": "@jupyter-widgets/controls",
          "model_module_version": "1.5.0",
          "model_name": "DescriptionStyleModel",
          "state": {
            "_model_module": "@jupyter-widgets/controls",
            "_model_module_version": "1.5.0",
            "_model_name": "DescriptionStyleModel",
            "_view_count": null,
            "_view_module": "@jupyter-widgets/base",
            "_view_module_version": "1.2.0",
            "_view_name": "StyleView",
            "description_width": ""
          }
        },
        "922b2ef2bbd2418ab51f136ce39ef9ef": {
          "model_module": "@jupyter-widgets/base",
          "model_module_version": "1.2.0",
          "model_name": "LayoutModel",
          "state": {
            "_model_module": "@jupyter-widgets/base",
            "_model_module_version": "1.2.0",
            "_model_name": "LayoutModel",
            "_view_count": null,
            "_view_module": "@jupyter-widgets/base",
            "_view_module_version": "1.2.0",
            "_view_name": "LayoutView",
            "align_content": null,
            "align_items": null,
            "align_self": null,
            "border": null,
            "bottom": null,
            "display": null,
            "flex": null,
            "flex_flow": null,
            "grid_area": null,
            "grid_auto_columns": null,
            "grid_auto_flow": null,
            "grid_auto_rows": null,
            "grid_column": null,
            "grid_gap": null,
            "grid_row": null,
            "grid_template_areas": null,
            "grid_template_columns": null,
            "grid_template_rows": null,
            "height": null,
            "justify_content": null,
            "justify_items": null,
            "left": null,
            "margin": null,
            "max_height": null,
            "max_width": null,
            "min_height": null,
            "min_width": null,
            "object_fit": null,
            "object_position": null,
            "order": null,
            "overflow": null,
            "overflow_x": null,
            "overflow_y": null,
            "padding": null,
            "right": null,
            "top": null,
            "visibility": null,
            "width": null
          }
        },
        "96d378fecd7e461285c4bc42f4e6c58a": {
          "model_module": "@jupyter-widgets/controls",
          "model_module_version": "1.5.0",
          "model_name": "DescriptionStyleModel",
          "state": {
            "_model_module": "@jupyter-widgets/controls",
            "_model_module_version": "1.5.0",
            "_model_name": "DescriptionStyleModel",
            "_view_count": null,
            "_view_module": "@jupyter-widgets/base",
            "_view_module_version": "1.2.0",
            "_view_name": "StyleView",
            "description_width": ""
          }
        },
        "a3b1871da821483cba3b60998b7a4b35": {
          "model_module": "@jupyter-widgets/controls",
          "model_module_version": "1.5.0",
          "model_name": "DescriptionStyleModel",
          "state": {
            "_model_module": "@jupyter-widgets/controls",
            "_model_module_version": "1.5.0",
            "_model_name": "DescriptionStyleModel",
            "_view_count": null,
            "_view_module": "@jupyter-widgets/base",
            "_view_module_version": "1.2.0",
            "_view_name": "StyleView",
            "description_width": ""
          }
        },
        "a8fd475b1d4542dcbfa592fee6ded396": {
          "model_module": "@jupyter-widgets/base",
          "model_module_version": "1.2.0",
          "model_name": "LayoutModel",
          "state": {
            "_model_module": "@jupyter-widgets/base",
            "_model_module_version": "1.2.0",
            "_model_name": "LayoutModel",
            "_view_count": null,
            "_view_module": "@jupyter-widgets/base",
            "_view_module_version": "1.2.0",
            "_view_name": "LayoutView",
            "align_content": null,
            "align_items": null,
            "align_self": null,
            "border": null,
            "bottom": null,
            "display": null,
            "flex": null,
            "flex_flow": null,
            "grid_area": null,
            "grid_auto_columns": null,
            "grid_auto_flow": null,
            "grid_auto_rows": null,
            "grid_column": null,
            "grid_gap": null,
            "grid_row": null,
            "grid_template_areas": null,
            "grid_template_columns": null,
            "grid_template_rows": null,
            "height": null,
            "justify_content": null,
            "justify_items": null,
            "left": null,
            "margin": null,
            "max_height": null,
            "max_width": null,
            "min_height": null,
            "min_width": null,
            "object_fit": null,
            "object_position": null,
            "order": null,
            "overflow": null,
            "overflow_x": null,
            "overflow_y": null,
            "padding": null,
            "right": null,
            "top": null,
            "visibility": null,
            "width": null
          }
        },
        "b203dd12d7814a518e983ac1f4feb1ea": {
          "model_module": "@jupyter-widgets/controls",
          "model_module_version": "1.5.0",
          "model_name": "HTMLModel",
          "state": {
            "_dom_classes": [],
            "_model_module": "@jupyter-widgets/controls",
            "_model_module_version": "1.5.0",
            "_model_name": "HTMLModel",
            "_view_count": null,
            "_view_module": "@jupyter-widgets/controls",
            "_view_module_version": "1.5.0",
            "_view_name": "HTMLView",
            "description": "",
            "description_tooltip": null,
            "layout": "IPY_MODEL_823ffdcd6c064119bccfd671eccd4ca8",
            "placeholder": "​",
            "style": "IPY_MODEL_fb6ce5fc036049ce9939f982221b252e",
            "value": "vocab.txt: 100%"
          }
        },
        "b2e09d11eb4046c1b6c1c8ef2a79267d": {
          "model_module": "@jupyter-widgets/controls",
          "model_module_version": "1.5.0",
          "model_name": "ProgressStyleModel",
          "state": {
            "_model_module": "@jupyter-widgets/controls",
            "_model_module_version": "1.5.0",
            "_model_name": "ProgressStyleModel",
            "_view_count": null,
            "_view_module": "@jupyter-widgets/base",
            "_view_module_version": "1.2.0",
            "_view_name": "StyleView",
            "bar_color": null,
            "description_width": ""
          }
        },
        "b818368a3bb14c3ea79701a12212a629": {
          "model_module": "@jupyter-widgets/base",
          "model_module_version": "1.2.0",
          "model_name": "LayoutModel",
          "state": {
            "_model_module": "@jupyter-widgets/base",
            "_model_module_version": "1.2.0",
            "_model_name": "LayoutModel",
            "_view_count": null,
            "_view_module": "@jupyter-widgets/base",
            "_view_module_version": "1.2.0",
            "_view_name": "LayoutView",
            "align_content": null,
            "align_items": null,
            "align_self": null,
            "border": null,
            "bottom": null,
            "display": null,
            "flex": null,
            "flex_flow": null,
            "grid_area": null,
            "grid_auto_columns": null,
            "grid_auto_flow": null,
            "grid_auto_rows": null,
            "grid_column": null,
            "grid_gap": null,
            "grid_row": null,
            "grid_template_areas": null,
            "grid_template_columns": null,
            "grid_template_rows": null,
            "height": null,
            "justify_content": null,
            "justify_items": null,
            "left": null,
            "margin": null,
            "max_height": null,
            "max_width": null,
            "min_height": null,
            "min_width": null,
            "object_fit": null,
            "object_position": null,
            "order": null,
            "overflow": null,
            "overflow_x": null,
            "overflow_y": null,
            "padding": null,
            "right": null,
            "top": null,
            "visibility": null,
            "width": null
          }
        },
        "baaddcc9f72f4a9da7b0bb3df4bcd1b5": {
          "model_module": "@jupyter-widgets/controls",
          "model_module_version": "1.5.0",
          "model_name": "HTMLModel",
          "state": {
            "_dom_classes": [],
            "_model_module": "@jupyter-widgets/controls",
            "_model_module_version": "1.5.0",
            "_model_name": "HTMLModel",
            "_view_count": null,
            "_view_module": "@jupyter-widgets/controls",
            "_view_module_version": "1.5.0",
            "_view_name": "HTMLView",
            "description": "",
            "description_tooltip": null,
            "layout": "IPY_MODEL_82d7462a891249b3b97974f5be4e03c4",
            "placeholder": "​",
            "style": "IPY_MODEL_da66c1abaa2a4c528f32a4e5deb7c7f2",
            "value": "tokenizer_config.json: 100%"
          }
        },
        "c4bf694a45234afc987f748618d4eb9a": {
          "model_module": "@jupyter-widgets/base",
          "model_module_version": "1.2.0",
          "model_name": "LayoutModel",
          "state": {
            "_model_module": "@jupyter-widgets/base",
            "_model_module_version": "1.2.0",
            "_model_name": "LayoutModel",
            "_view_count": null,
            "_view_module": "@jupyter-widgets/base",
            "_view_module_version": "1.2.0",
            "_view_name": "LayoutView",
            "align_content": null,
            "align_items": null,
            "align_self": null,
            "border": null,
            "bottom": null,
            "display": null,
            "flex": null,
            "flex_flow": null,
            "grid_area": null,
            "grid_auto_columns": null,
            "grid_auto_flow": null,
            "grid_auto_rows": null,
            "grid_column": null,
            "grid_gap": null,
            "grid_row": null,
            "grid_template_areas": null,
            "grid_template_columns": null,
            "grid_template_rows": null,
            "height": null,
            "justify_content": null,
            "justify_items": null,
            "left": null,
            "margin": null,
            "max_height": null,
            "max_width": null,
            "min_height": null,
            "min_width": null,
            "object_fit": null,
            "object_position": null,
            "order": null,
            "overflow": null,
            "overflow_x": null,
            "overflow_y": null,
            "padding": null,
            "right": null,
            "top": null,
            "visibility": null,
            "width": null
          }
        },
        "c7f6278d0d5d46c59010f1ab71604cb1": {
          "model_module": "@jupyter-widgets/base",
          "model_module_version": "1.2.0",
          "model_name": "LayoutModel",
          "state": {
            "_model_module": "@jupyter-widgets/base",
            "_model_module_version": "1.2.0",
            "_model_name": "LayoutModel",
            "_view_count": null,
            "_view_module": "@jupyter-widgets/base",
            "_view_module_version": "1.2.0",
            "_view_name": "LayoutView",
            "align_content": null,
            "align_items": null,
            "align_self": null,
            "border": null,
            "bottom": null,
            "display": null,
            "flex": null,
            "flex_flow": null,
            "grid_area": null,
            "grid_auto_columns": null,
            "grid_auto_flow": null,
            "grid_auto_rows": null,
            "grid_column": null,
            "grid_gap": null,
            "grid_row": null,
            "grid_template_areas": null,
            "grid_template_columns": null,
            "grid_template_rows": null,
            "height": null,
            "justify_content": null,
            "justify_items": null,
            "left": null,
            "margin": null,
            "max_height": null,
            "max_width": null,
            "min_height": null,
            "min_width": null,
            "object_fit": null,
            "object_position": null,
            "order": null,
            "overflow": null,
            "overflow_x": null,
            "overflow_y": null,
            "padding": null,
            "right": null,
            "top": null,
            "visibility": null,
            "width": null
          }
        },
        "cc5a67e4bd5543caa9e5344ba82fdae6": {
          "model_module": "@jupyter-widgets/base",
          "model_module_version": "1.2.0",
          "model_name": "LayoutModel",
          "state": {
            "_model_module": "@jupyter-widgets/base",
            "_model_module_version": "1.2.0",
            "_model_name": "LayoutModel",
            "_view_count": null,
            "_view_module": "@jupyter-widgets/base",
            "_view_module_version": "1.2.0",
            "_view_name": "LayoutView",
            "align_content": null,
            "align_items": null,
            "align_self": null,
            "border": null,
            "bottom": null,
            "display": null,
            "flex": null,
            "flex_flow": null,
            "grid_area": null,
            "grid_auto_columns": null,
            "grid_auto_flow": null,
            "grid_auto_rows": null,
            "grid_column": null,
            "grid_gap": null,
            "grid_row": null,
            "grid_template_areas": null,
            "grid_template_columns": null,
            "grid_template_rows": null,
            "height": null,
            "justify_content": null,
            "justify_items": null,
            "left": null,
            "margin": null,
            "max_height": null,
            "max_width": null,
            "min_height": null,
            "min_width": null,
            "object_fit": null,
            "object_position": null,
            "order": null,
            "overflow": null,
            "overflow_x": null,
            "overflow_y": null,
            "padding": null,
            "right": null,
            "top": null,
            "visibility": null,
            "width": null
          }
        },
        "d3c5b748d2b74cf0b608285831dd216b": {
          "model_module": "@jupyter-widgets/controls",
          "model_module_version": "1.5.0",
          "model_name": "DescriptionStyleModel",
          "state": {
            "_model_module": "@jupyter-widgets/controls",
            "_model_module_version": "1.5.0",
            "_model_name": "DescriptionStyleModel",
            "_view_count": null,
            "_view_module": "@jupyter-widgets/base",
            "_view_module_version": "1.2.0",
            "_view_name": "StyleView",
            "description_width": ""
          }
        },
        "d765f2cb349e48ea90899ad969870ec4": {
          "model_module": "@jupyter-widgets/controls",
          "model_module_version": "1.5.0",
          "model_name": "HBoxModel",
          "state": {
            "_dom_classes": [],
            "_model_module": "@jupyter-widgets/controls",
            "_model_module_version": "1.5.0",
            "_model_name": "HBoxModel",
            "_view_count": null,
            "_view_module": "@jupyter-widgets/controls",
            "_view_module_version": "1.5.0",
            "_view_name": "HBoxView",
            "box_style": "",
            "children": [
              "IPY_MODEL_15db67f9e26c47fc945ea4201931235c",
              "IPY_MODEL_063b9fc509fe407ea4c4e9f2d3584179",
              "IPY_MODEL_8608a151bada442aa04ba507283817cb"
            ],
            "layout": "IPY_MODEL_12f47ec58c49483cbe9a15761c67521d"
          }
        },
        "d79c79a232494930813930cd5c6188d4": {
          "model_module": "@jupyter-widgets/controls",
          "model_module_version": "1.5.0",
          "model_name": "FloatProgressModel",
          "state": {
            "_dom_classes": [],
            "_model_module": "@jupyter-widgets/controls",
            "_model_module_version": "1.5.0",
            "_model_name": "FloatProgressModel",
            "_view_count": null,
            "_view_module": "@jupyter-widgets/controls",
            "_view_module_version": "1.5.0",
            "_view_name": "ProgressView",
            "bar_style": "success",
            "description": "",
            "description_tooltip": null,
            "layout": "IPY_MODEL_f998deebbe304030bef6c44f1371db73",
            "max": 112,
            "min": 0,
            "orientation": "horizontal",
            "style": "IPY_MODEL_599bfcfe3b894979a56a71f5e1ab1485",
            "value": 112
          }
        },
        "da66c1abaa2a4c528f32a4e5deb7c7f2": {
          "model_module": "@jupyter-widgets/controls",
          "model_module_version": "1.5.0",
          "model_name": "DescriptionStyleModel",
          "state": {
            "_model_module": "@jupyter-widgets/controls",
            "_model_module_version": "1.5.0",
            "_model_name": "DescriptionStyleModel",
            "_view_count": null,
            "_view_module": "@jupyter-widgets/base",
            "_view_module_version": "1.2.0",
            "_view_name": "StyleView",
            "description_width": ""
          }
        },
        "db77091182134ee1bfb53f2c8dea8f4c": {
          "model_module": "@jupyter-widgets/base",
          "model_module_version": "1.2.0",
          "model_name": "LayoutModel",
          "state": {
            "_model_module": "@jupyter-widgets/base",
            "_model_module_version": "1.2.0",
            "_model_name": "LayoutModel",
            "_view_count": null,
            "_view_module": "@jupyter-widgets/base",
            "_view_module_version": "1.2.0",
            "_view_name": "LayoutView",
            "align_content": null,
            "align_items": null,
            "align_self": null,
            "border": null,
            "bottom": null,
            "display": null,
            "flex": null,
            "flex_flow": null,
            "grid_area": null,
            "grid_auto_columns": null,
            "grid_auto_flow": null,
            "grid_auto_rows": null,
            "grid_column": null,
            "grid_gap": null,
            "grid_row": null,
            "grid_template_areas": null,
            "grid_template_columns": null,
            "grid_template_rows": null,
            "height": null,
            "justify_content": null,
            "justify_items": null,
            "left": null,
            "margin": null,
            "max_height": null,
            "max_width": null,
            "min_height": null,
            "min_width": null,
            "object_fit": null,
            "object_position": null,
            "order": null,
            "overflow": null,
            "overflow_x": null,
            "overflow_y": null,
            "padding": null,
            "right": null,
            "top": null,
            "visibility": null,
            "width": null
          }
        },
        "de60ff5b6e7d4439a7f11a1401ed93d8": {
          "model_module": "@jupyter-widgets/controls",
          "model_module_version": "1.5.0",
          "model_name": "HTMLModel",
          "state": {
            "_dom_classes": [],
            "_model_module": "@jupyter-widgets/controls",
            "_model_module_version": "1.5.0",
            "_model_name": "HTMLModel",
            "_view_count": null,
            "_view_module": "@jupyter-widgets/controls",
            "_view_module_version": "1.5.0",
            "_view_name": "HTMLView",
            "description": "",
            "description_tooltip": null,
            "layout": "IPY_MODEL_f3349dc977364ad68287bbb3341acaef",
            "placeholder": "​",
            "style": "IPY_MODEL_a3b1871da821483cba3b60998b7a4b35",
            "value": "pytorch_model.bin: 100%"
          }
        },
        "df6bbe95c7594a7aa439fc4ef8485b39": {
          "model_module": "@jupyter-widgets/controls",
          "model_module_version": "1.5.0",
          "model_name": "FloatProgressModel",
          "state": {
            "_dom_classes": [],
            "_model_module": "@jupyter-widgets/controls",
            "_model_module_version": "1.5.0",
            "_model_name": "FloatProgressModel",
            "_view_count": null,
            "_view_module": "@jupyter-widgets/controls",
            "_view_module_version": "1.5.0",
            "_view_name": "ProgressView",
            "bar_style": "success",
            "description": "",
            "description_tooltip": null,
            "layout": "IPY_MODEL_443b20128bc741818b8ed351ea5502e1",
            "max": 252,
            "min": 0,
            "orientation": "horizontal",
            "style": "IPY_MODEL_6586c46bc8994f9fb82fa1e5ceb1e533",
            "value": 252
          }
        },
        "e1fc428814354a77932af4b73c6c7a39": {
          "model_module": "@jupyter-widgets/base",
          "model_module_version": "1.2.0",
          "model_name": "LayoutModel",
          "state": {
            "_model_module": "@jupyter-widgets/base",
            "_model_module_version": "1.2.0",
            "_model_name": "LayoutModel",
            "_view_count": null,
            "_view_module": "@jupyter-widgets/base",
            "_view_module_version": "1.2.0",
            "_view_name": "LayoutView",
            "align_content": null,
            "align_items": null,
            "align_self": null,
            "border": null,
            "bottom": null,
            "display": null,
            "flex": null,
            "flex_flow": null,
            "grid_area": null,
            "grid_auto_columns": null,
            "grid_auto_flow": null,
            "grid_auto_rows": null,
            "grid_column": null,
            "grid_gap": null,
            "grid_row": null,
            "grid_template_areas": null,
            "grid_template_columns": null,
            "grid_template_rows": null,
            "height": null,
            "justify_content": null,
            "justify_items": null,
            "left": null,
            "margin": null,
            "max_height": null,
            "max_width": null,
            "min_height": null,
            "min_width": null,
            "object_fit": null,
            "object_position": null,
            "order": null,
            "overflow": null,
            "overflow_x": null,
            "overflow_y": null,
            "padding": null,
            "right": null,
            "top": null,
            "visibility": null,
            "width": null
          }
        },
        "e7e6914385bd4449b250c7c8fd0ef210": {
          "model_module": "@jupyter-widgets/controls",
          "model_module_version": "1.5.0",
          "model_name": "HTMLModel",
          "state": {
            "_dom_classes": [],
            "_model_module": "@jupyter-widgets/controls",
            "_model_module_version": "1.5.0",
            "_model_name": "HTMLModel",
            "_view_count": null,
            "_view_module": "@jupyter-widgets/controls",
            "_view_module_version": "1.5.0",
            "_view_name": "HTMLView",
            "description": "",
            "description_tooltip": null,
            "layout": "IPY_MODEL_c4bf694a45234afc987f748618d4eb9a",
            "placeholder": "​",
            "style": "IPY_MODEL_96d378fecd7e461285c4bc42f4e6c58a",
            "value": " 112/112 [00:00&lt;00:00, 3.41kB/s]"
          }
        },
        "ec3bab3c3a5248bba6fabe29fa6c6c1b": {
          "model_module": "@jupyter-widgets/base",
          "model_module_version": "1.2.0",
          "model_name": "LayoutModel",
          "state": {
            "_model_module": "@jupyter-widgets/base",
            "_model_module_version": "1.2.0",
            "_model_name": "LayoutModel",
            "_view_count": null,
            "_view_module": "@jupyter-widgets/base",
            "_view_module_version": "1.2.0",
            "_view_name": "LayoutView",
            "align_content": null,
            "align_items": null,
            "align_self": null,
            "border": null,
            "bottom": null,
            "display": null,
            "flex": null,
            "flex_flow": null,
            "grid_area": null,
            "grid_auto_columns": null,
            "grid_auto_flow": null,
            "grid_auto_rows": null,
            "grid_column": null,
            "grid_gap": null,
            "grid_row": null,
            "grid_template_areas": null,
            "grid_template_columns": null,
            "grid_template_rows": null,
            "height": null,
            "justify_content": null,
            "justify_items": null,
            "left": null,
            "margin": null,
            "max_height": null,
            "max_width": null,
            "min_height": null,
            "min_width": null,
            "object_fit": null,
            "object_position": null,
            "order": null,
            "overflow": null,
            "overflow_x": null,
            "overflow_y": null,
            "padding": null,
            "right": null,
            "top": null,
            "visibility": null,
            "width": null
          }
        },
        "f15de415d7124fce8fcf2274d04bd18d": {
          "model_module": "@jupyter-widgets/controls",
          "model_module_version": "1.5.0",
          "model_name": "ProgressStyleModel",
          "state": {
            "_model_module": "@jupyter-widgets/controls",
            "_model_module_version": "1.5.0",
            "_model_name": "ProgressStyleModel",
            "_view_count": null,
            "_view_module": "@jupyter-widgets/base",
            "_view_module_version": "1.2.0",
            "_view_name": "StyleView",
            "bar_color": null,
            "description_width": ""
          }
        },
        "f165630e68ec42c89d36d75f8ebcc392": {
          "model_module": "@jupyter-widgets/base",
          "model_module_version": "1.2.0",
          "model_name": "LayoutModel",
          "state": {
            "_model_module": "@jupyter-widgets/base",
            "_model_module_version": "1.2.0",
            "_model_name": "LayoutModel",
            "_view_count": null,
            "_view_module": "@jupyter-widgets/base",
            "_view_module_version": "1.2.0",
            "_view_name": "LayoutView",
            "align_content": null,
            "align_items": null,
            "align_self": null,
            "border": null,
            "bottom": null,
            "display": null,
            "flex": null,
            "flex_flow": null,
            "grid_area": null,
            "grid_auto_columns": null,
            "grid_auto_flow": null,
            "grid_auto_rows": null,
            "grid_column": null,
            "grid_gap": null,
            "grid_row": null,
            "grid_template_areas": null,
            "grid_template_columns": null,
            "grid_template_rows": null,
            "height": null,
            "justify_content": null,
            "justify_items": null,
            "left": null,
            "margin": null,
            "max_height": null,
            "max_width": null,
            "min_height": null,
            "min_width": null,
            "object_fit": null,
            "object_position": null,
            "order": null,
            "overflow": null,
            "overflow_x": null,
            "overflow_y": null,
            "padding": null,
            "right": null,
            "top": null,
            "visibility": null,
            "width": null
          }
        },
        "f3349dc977364ad68287bbb3341acaef": {
          "model_module": "@jupyter-widgets/base",
          "model_module_version": "1.2.0",
          "model_name": "LayoutModel",
          "state": {
            "_model_module": "@jupyter-widgets/base",
            "_model_module_version": "1.2.0",
            "_model_name": "LayoutModel",
            "_view_count": null,
            "_view_module": "@jupyter-widgets/base",
            "_view_module_version": "1.2.0",
            "_view_name": "LayoutView",
            "align_content": null,
            "align_items": null,
            "align_self": null,
            "border": null,
            "bottom": null,
            "display": null,
            "flex": null,
            "flex_flow": null,
            "grid_area": null,
            "grid_auto_columns": null,
            "grid_auto_flow": null,
            "grid_auto_rows": null,
            "grid_column": null,
            "grid_gap": null,
            "grid_row": null,
            "grid_template_areas": null,
            "grid_template_columns": null,
            "grid_template_rows": null,
            "height": null,
            "justify_content": null,
            "justify_items": null,
            "left": null,
            "margin": null,
            "max_height": null,
            "max_width": null,
            "min_height": null,
            "min_width": null,
            "object_fit": null,
            "object_position": null,
            "order": null,
            "overflow": null,
            "overflow_x": null,
            "overflow_y": null,
            "padding": null,
            "right": null,
            "top": null,
            "visibility": null,
            "width": null
          }
        },
        "f998deebbe304030bef6c44f1371db73": {
          "model_module": "@jupyter-widgets/base",
          "model_module_version": "1.2.0",
          "model_name": "LayoutModel",
          "state": {
            "_model_module": "@jupyter-widgets/base",
            "_model_module_version": "1.2.0",
            "_model_name": "LayoutModel",
            "_view_count": null,
            "_view_module": "@jupyter-widgets/base",
            "_view_module_version": "1.2.0",
            "_view_name": "LayoutView",
            "align_content": null,
            "align_items": null,
            "align_self": null,
            "border": null,
            "bottom": null,
            "display": null,
            "flex": null,
            "flex_flow": null,
            "grid_area": null,
            "grid_auto_columns": null,
            "grid_auto_flow": null,
            "grid_auto_rows": null,
            "grid_column": null,
            "grid_gap": null,
            "grid_row": null,
            "grid_template_areas": null,
            "grid_template_columns": null,
            "grid_template_rows": null,
            "height": null,
            "justify_content": null,
            "justify_items": null,
            "left": null,
            "margin": null,
            "max_height": null,
            "max_width": null,
            "min_height": null,
            "min_width": null,
            "object_fit": null,
            "object_position": null,
            "order": null,
            "overflow": null,
            "overflow_x": null,
            "overflow_y": null,
            "padding": null,
            "right": null,
            "top": null,
            "visibility": null,
            "width": null
          }
        },
        "fa2db381bdbe46ca9c61aa817e873149": {
          "model_module": "@jupyter-widgets/controls",
          "model_module_version": "1.5.0",
          "model_name": "HTMLModel",
          "state": {
            "_dom_classes": [],
            "_model_module": "@jupyter-widgets/controls",
            "_model_module_version": "1.5.0",
            "_model_name": "HTMLModel",
            "_view_count": null,
            "_view_module": "@jupyter-widgets/controls",
            "_view_module_version": "1.5.0",
            "_view_name": "HTMLView",
            "description": "",
            "description_tooltip": null,
            "layout": "IPY_MODEL_e1fc428814354a77932af4b73c6c7a39",
            "placeholder": "​",
            "style": "IPY_MODEL_433f09b6b5964b3b8e3755aa36db75ec",
            "value": " 232k/232k [00:00&lt;00:00, 4.49MB/s]"
          }
        },
        "fb6ce5fc036049ce9939f982221b252e": {
          "model_module": "@jupyter-widgets/controls",
          "model_module_version": "1.5.0",
          "model_name": "DescriptionStyleModel",
          "state": {
            "_model_module": "@jupyter-widgets/controls",
            "_model_module_version": "1.5.0",
            "_model_name": "DescriptionStyleModel",
            "_view_count": null,
            "_view_module": "@jupyter-widgets/base",
            "_view_module_version": "1.2.0",
            "_view_name": "StyleView",
            "description_width": ""
          }
        }
      }
    },
    "accelerator": "GPU"
  },
  "nbformat": 4,
  "nbformat_minor": 0
}